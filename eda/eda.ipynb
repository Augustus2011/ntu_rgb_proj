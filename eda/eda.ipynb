{
 "cells": [
  {
   "cell_type": "code",
   "execution_count": 1,
   "metadata": {},
   "outputs": [],
   "source": [
    "import polars as pl\n",
    "import matplotlib.pyplot as plt\n",
    "import numpy as np"
   ]
  },
  {
   "cell_type": "code",
   "execution_count": 2,
   "metadata": {},
   "outputs": [],
   "source": [
    "df_1_2_10=pl.read_parquet(\"/Users/kunkerdthaisong/Downloads/dataframe.parquet\")"
   ]
  },
  {
   "cell_type": "code",
   "execution_count": 5,
   "metadata": {},
   "outputs": [
    {
     "data": {
      "text/html": [
       "<div><style>\n",
       ".dataframe > thead > tr,\n",
       ".dataframe > tbody > tr {\n",
       "  text-align: right;\n",
       "  white-space: pre-wrap;\n",
       "}\n",
       "</style>\n",
       "<small>shape: (19_095_250, 7)</small><table border=\"1\" class=\"dataframe\"><thead><tr><th>frame</th><th>joint</th><th>x</th><th>y</th><th>z</th><th>dis_from_00</th><th>file_path</th></tr><tr><td>i64</td><td>i64</td><td>f64</td><td>f64</td><td>f64</td><td>f64</td><td>str</td></tr></thead><tbody><tr><td>1</td><td>1</td><td>0.2448688</td><td>-0.319706</td><td>2.583407</td><td>2.614606</td><td>&quot;/Users/kunkerd…</td></tr><tr><td>1</td><td>2</td><td>0.2292261</td><td>0.001406</td><td>2.560505</td><td>2.570746</td><td>&quot;/Users/kunkerd…</td></tr><tr><td>1</td><td>3</td><td>0.2133683</td><td>0.3145366</td><td>2.523498</td><td>2.55196</td><td>&quot;/Users/kunkerd…</td></tr><tr><td>1</td><td>4</td><td>0.2640043</td><td>0.4484481</td><td>2.526233</td><td>2.579275</td><td>&quot;/Users/kunkerd…</td></tr><tr><td>1</td><td>5</td><td>0.077273</td><td>0.1855741</td><td>2.44758</td><td>2.455821</td><td>&quot;/Users/kunkerd…</td></tr><tr><td>1</td><td>6</td><td>0.021555</td><td>-0.062575</td><td>2.416886</td><td>2.417792</td><td>&quot;/Users/kunkerd…</td></tr><tr><td>1</td><td>7</td><td>0.095063</td><td>-0.304932</td><td>2.369344</td><td>2.390776</td><td>&quot;/Users/kunkerd…</td></tr><tr><td>1</td><td>8</td><td>0.1137719</td><td>-0.381393</td><td>2.366498</td><td>2.399733</td><td>&quot;/Users/kunkerd…</td></tr><tr><td>1</td><td>9</td><td>0.3703793</td><td>0.1825166</td><td>2.603368</td><td>2.635909</td><td>&quot;/Users/kunkerd…</td></tr><tr><td>1</td><td>10</td><td>0.4082483</td><td>-0.085119</td><td>2.658164</td><td>2.690678</td><td>&quot;/Users/kunkerd…</td></tr><tr><td>1</td><td>11</td><td>0.460914</td><td>-0.356239</td><td>2.62198</td><td>2.685913</td><td>&quot;/Users/kunkerd…</td></tr><tr><td>1</td><td>12</td><td>0.4622115</td><td>-0.414822</td><td>2.600646</td><td>2.673776</td><td>&quot;/Users/kunkerd…</td></tr><tr><td>&hellip;</td><td>&hellip;</td><td>&hellip;</td><td>&hellip;</td><td>&hellip;</td><td>&hellip;</td><td>&hellip;</td></tr><tr><td>70</td><td>14</td><td>-0.450071</td><td>-0.426966</td><td>3.755414</td><td>3.80631</td><td>&quot;/Users/kunkerd…</td></tr><tr><td>70</td><td>15</td><td>-0.294916</td><td>-0.783711</td><td>3.73031</td><td>3.823139</td><td>&quot;/Users/kunkerd…</td></tr><tr><td>70</td><td>16</td><td>-0.240948</td><td>-0.838213</td><td>3.639246</td><td>3.742295</td><td>&quot;/Users/kunkerd…</td></tr><tr><td>70</td><td>17</td><td>-0.393375</td><td>-0.164236</td><td>3.562476</td><td>3.58789</td><td>&quot;/Users/kunkerd…</td></tr><tr><td>70</td><td>18</td><td>-0.369756</td><td>-0.434716</td><td>3.645689</td><td>3.690088</td><td>&quot;/Users/kunkerd…</td></tr><tr><td>70</td><td>19</td><td>-0.32005</td><td>-0.752183</td><td>3.765694</td><td>3.853396</td><td>&quot;/Users/kunkerd…</td></tr><tr><td>70</td><td>20</td><td>-0.356647</td><td>-0.813866</td><td>3.766612</td><td>3.870005</td><td>&quot;/Users/kunkerd…</td></tr><tr><td>70</td><td>21</td><td>-0.409047</td><td>0.3418425</td><td>3.501443</td><td>3.54179</td><td>&quot;/Users/kunkerd…</td></tr><tr><td>70</td><td>22</td><td>-0.50222</td><td>-0.145406</td><td>3.583887</td><td>3.621825</td><td>&quot;/Users/kunkerd…</td></tr><tr><td>70</td><td>23</td><td>-0.495127</td><td>-0.149641</td><td>3.568</td><td>3.605297</td><td>&quot;/Users/kunkerd…</td></tr><tr><td>70</td><td>24</td><td>-0.265041</td><td>-0.298783</td><td>3.486935</td><td>3.509734</td><td>&quot;/Users/kunkerd…</td></tr><tr><td>70</td><td>25</td><td>-0.331719</td><td>-0.259292</td><td>3.451218</td><td>3.476805</td><td>&quot;/Users/kunkerd…</td></tr></tbody></table></div>"
      ],
      "text/plain": [
       "shape: (19_095_250, 7)\n",
       "┌───────┬───────┬───────────┬───────────┬──────────┬─────────────┬─────────────────────────────────┐\n",
       "│ frame ┆ joint ┆ x         ┆ y         ┆ z        ┆ dis_from_00 ┆ file_path                       │\n",
       "│ ---   ┆ ---   ┆ ---       ┆ ---       ┆ ---      ┆ ---         ┆ ---                             │\n",
       "│ i64   ┆ i64   ┆ f64       ┆ f64       ┆ f64      ┆ f64         ┆ str                             │\n",
       "╞═══════╪═══════╪═══════════╪═══════════╪══════════╪═════════════╪═════════════════════════════════╡\n",
       "│ 1     ┆ 1     ┆ 0.2448688 ┆ -0.319706 ┆ 2.583407 ┆ 2.614606    ┆ /Users/kunkerdthaisong/ipu/ntu_ │\n",
       "│       ┆       ┆           ┆           ┆          ┆             ┆ r…                              │\n",
       "│ 1     ┆ 2     ┆ 0.2292261 ┆ 0.001406  ┆ 2.560505 ┆ 2.570746    ┆ /Users/kunkerdthaisong/ipu/ntu_ │\n",
       "│       ┆       ┆           ┆           ┆          ┆             ┆ r…                              │\n",
       "│ 1     ┆ 3     ┆ 0.2133683 ┆ 0.3145366 ┆ 2.523498 ┆ 2.55196     ┆ /Users/kunkerdthaisong/ipu/ntu_ │\n",
       "│       ┆       ┆           ┆           ┆          ┆             ┆ r…                              │\n",
       "│ 1     ┆ 4     ┆ 0.2640043 ┆ 0.4484481 ┆ 2.526233 ┆ 2.579275    ┆ /Users/kunkerdthaisong/ipu/ntu_ │\n",
       "│       ┆       ┆           ┆           ┆          ┆             ┆ r…                              │\n",
       "│ …     ┆ …     ┆ …         ┆ …         ┆ …        ┆ …           ┆ …                               │\n",
       "│ 70    ┆ 22    ┆ -0.50222  ┆ -0.145406 ┆ 3.583887 ┆ 3.621825    ┆ /Users/kunkerdthaisong/ipu/ntu_ │\n",
       "│       ┆       ┆           ┆           ┆          ┆             ┆ r…                              │\n",
       "│ 70    ┆ 23    ┆ -0.495127 ┆ -0.149641 ┆ 3.568    ┆ 3.605297    ┆ /Users/kunkerdthaisong/ipu/ntu_ │\n",
       "│       ┆       ┆           ┆           ┆          ┆             ┆ r…                              │\n",
       "│ 70    ┆ 24    ┆ -0.265041 ┆ -0.298783 ┆ 3.486935 ┆ 3.509734    ┆ /Users/kunkerdthaisong/ipu/ntu_ │\n",
       "│       ┆       ┆           ┆           ┆          ┆             ┆ r…                              │\n",
       "│ 70    ┆ 25    ┆ -0.331719 ┆ -0.259292 ┆ 3.451218 ┆ 3.476805    ┆ /Users/kunkerdthaisong/ipu/ntu_ │\n",
       "│       ┆       ┆           ┆           ┆          ┆             ┆ r…                              │\n",
       "└───────┴───────┴───────────┴───────────┴──────────┴─────────────┴─────────────────────────────────┘"
      ]
     },
     "execution_count": 5,
     "metadata": {},
     "output_type": "execute_result"
    }
   ],
   "source": [
    "df_1_2_10=df_1_2_10.drop([\"zone\",\"dis_from_hop1\",\"angle_from_hop1\"])\n",
    "df_1_2_10"
   ]
  },
  {
   "cell_type": "code",
   "execution_count": null,
   "metadata": {},
   "outputs": [],
   "source": []
  }
 ],
 "metadata": {
  "kernelspec": {
   "display_name": "Python 3",
   "language": "python",
   "name": "python3"
  },
  "language_info": {
   "codemirror_mode": {
    "name": "ipython",
    "version": 3
   },
   "file_extension": ".py",
   "mimetype": "text/x-python",
   "name": "python",
   "nbconvert_exporter": "python",
   "pygments_lexer": "ipython3",
   "version": "3.11.1"
  }
 },
 "nbformat": 4,
 "nbformat_minor": 2
}
