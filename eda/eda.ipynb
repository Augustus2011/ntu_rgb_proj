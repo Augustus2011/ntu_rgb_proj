{
 "cells": [
  {
   "cell_type": "code",
   "execution_count": 16,
   "metadata": {},
   "outputs": [],
   "source": [
    "import polars as pl\n",
    "import matplotlib.pyplot as plt\n",
    "import numpy as np\n",
    "import gc\n",
    "import seaborn as sns"
   ]
  },
  {
   "cell_type": "code",
   "execution_count": 17,
   "metadata": {},
   "outputs": [],
   "source": [
    "#df_1_10=pl.read_parquet(\"/Users/kunkerdthaisong/Downloads/dataframe.parquet\")\n",
    "#df_1_10=df_1_10.drop([\"zone\",\"dis_from_hop1\",\"angle_from_hop1\"])\n",
    "df_2_10=pl.read_parquet(\"/Users/kunkerdthaisong/ipu/ntu_rgb_proj/ntu_rgb/two_person_30actions_10class.parquet\")"
   ]
  },
  {
   "cell_type": "code",
   "execution_count": 18,
   "metadata": {},
   "outputs": [
    {
     "data": {
      "text/plain": [
       "'S001C001P001R001A052.skeleton.npy'"
      ]
     },
     "execution_count": 18,
     "metadata": {},
     "output_type": "execute_result"
    }
   ],
   "source": [
    "df_2_10[\"filename_n_class\"].unique(maintain_order=True)[2]"
   ]
  },
  {
   "cell_type": "code",
   "execution_count": 19,
   "metadata": {},
   "outputs": [],
   "source": [
    "from scipy.signal import spectrogram,stft"
   ]
  },
  {
   "cell_type": "code",
   "execution_count": 15,
   "metadata": {},
   "outputs": [
    {
     "data": {
      "text/plain": [
       "([-0.0006193167643875341,\n",
       "  0.0001409697558161227,\n",
       "  8.794805393286254e-05,\n",
       "  -0.001759674152049584,\n",
       "  -9.033063697083676e-05,\n",
       "  -0.004867770989615661,\n",
       "  -0.0001806068371781322,\n",
       "  0.002105762607833128,\n",
       "  3.2317136248849465e-05,\n",
       "  -0.0005251878281287148,\n",
       "  -0.0003874121137852349,\n",
       "  0.0007863544217214802,\n",
       "  0.0006256268972824053,\n",
       "  0.0008252004478097597,\n",
       "  0.007339058237337603,\n",
       "  0.0002328425910773646,\n",
       "  -0.003448769070812041,\n",
       "  0.0026913378992978743,\n",
       "  0.0051203075101105,\n",
       "  0.0017769174082715722,\n",
       "  0.008630034762628913,\n",
       "  0.003452050190594136,\n",
       "  0.0031448868627639293,\n",
       "  0.003473945420651603,\n",
       "  0.00778181955403312,\n",
       "  -0.005405068666981538,\n",
       "  0.009998599267452946,\n",
       "  0.0047746319838521956,\n",
       "  -0.0029634657007835408,\n",
       "  -0.0006414798511933384,\n",
       "  0.0004140561956749167,\n",
       "  -0.0014718184920949895,\n",
       "  -0.001376933183738771,\n",
       "  -0.0013823421168641659,\n",
       "  -0.0010686211328052586,\n",
       "  0.00011201226196000391,\n",
       "  -0.006175877629617688,\n",
       "  0.0003296757836048769,\n",
       "  -0.0009424818801897494,\n",
       "  -0.0006013868544414436,\n",
       "  -0.0036800624726480713,\n",
       "  0.000581584806837121,\n",
       "  0.0018593252713929864,\n",
       "  -0.005453725031758783,\n",
       "  -0.003145263133527809,\n",
       "  0.0001745149873935148,\n",
       "  0.001603008043573606,\n",
       "  0.005755887493392731,\n",
       "  -0.001072401102800935,\n",
       "  -0.0017749920751377601,\n",
       "  -0.0007463127117137702,\n",
       "  -0.005086937960105065,\n",
       "  0.0034496019552836543,\n",
       "  -0.0029041540758565354,\n",
       "  -0.0003571167919940166,\n",
       "  0.0014713744747822943,\n",
       "  0.004311022071655124,\n",
       "  -0.0032463678482752556,\n",
       "  0.002497244079204375,\n",
       "  -0.0018227798482630675,\n",
       "  -0.00047852757008426394,\n",
       "  -0.005290051494134751,\n",
       "  0.0026328653395411017,\n",
       "  -0.007363770456340735,\n",
       "  -0.0010798430819165539,\n",
       "  0.0015999036035574399,\n",
       "  -0.0031523597561173844,\n",
       "  0.0010920224781179044,\n",
       "  -0.004247471229470001,\n",
       "  -0.011031474494461069,\n",
       "  -0.005258329890340363,\n",
       "  -0.004673857855839625,\n",
       "  0.002853304550094471],\n",
       " 73)"
      ]
     },
     "execution_count": 15,
     "metadata": {},
     "output_type": "execute_result"
    }
   ],
   "source": [
    "action=df_2_10.filter((pl.col(\"filename_n_class\")=='S001C001P001R001A052.skeleton.npy')&(pl.col(\"skel_body\")==1)&(pl.col(\"joint\").is_in([4,16,20,22,24])))\n",
    "action_j=action.filter(pl.col(\"joint\")==4)\n",
    "max_f=len(action_j)-1\n",
    "list_v=[]\n",
    "for i in range(0,max_f):\n",
    "    v=action_j[\"dis_from_00\"][i]-action_j[\"dis_from_00\"][i+1]\n",
    "    list_v.append(v)\n",
    "list_v,len(list_v)"
   ]
  },
  {
   "cell_type": "code",
   "execution_count": 14,
   "metadata": {},
   "outputs": [
    {
     "data": {
      "text/html": [
       "<div><style>\n",
       ".dataframe > thead > tr,\n",
       ".dataframe > tbody > tr {\n",
       "  text-align: right;\n",
       "  white-space: pre-wrap;\n",
       "}\n",
       "</style>\n",
       "<small>shape: (74, 9)</small><table border=\"1\" class=\"dataframe\"><thead><tr><th>frame</th><th>joint</th><th>skel_body</th><th>x</th><th>y</th><th>z</th><th>dis_from_00</th><th>file_path</th><th>filename_n_class</th></tr><tr><td>i64</td><td>i64</td><td>i64</td><td>f64</td><td>f64</td><td>f64</td><td>f64</td><td>str</td><td>str</td></tr></thead><tbody><tr><td>1</td><td>4</td><td>1</td><td>0.2397518</td><td>0.7965804</td><td>3.564928</td><td>3.660701</td><td>&quot;/Users/kunkerd…</td><td>&quot;S001C001P001R0…</td></tr><tr><td>2</td><td>4</td><td>1</td><td>0.2402258</td><td>0.7968894</td><td>3.565463</td><td>3.66132</td><td>&quot;/Users/kunkerd…</td><td>&quot;S001C001P001R0…</td></tr><tr><td>3</td><td>4</td><td>1</td><td>0.2408795</td><td>0.7971897</td><td>3.565207</td><td>3.661179</td><td>&quot;/Users/kunkerd…</td><td>&quot;S001C001P001R0…</td></tr><tr><td>4</td><td>4</td><td>1</td><td>0.2411814</td><td>0.7974592</td><td>3.565036</td><td>3.661092</td><td>&quot;/Users/kunkerd…</td><td>&quot;S001C001P001R0…</td></tr><tr><td>5</td><td>4</td><td>1</td><td>0.2445064</td><td>0.7970775</td><td>3.566702</td><td>3.662851</td><td>&quot;/Users/kunkerd…</td><td>&quot;S001C001P001R0…</td></tr><tr><td>6</td><td>4</td><td>1</td><td>0.2444487</td><td>0.7973268</td><td>3.566743</td><td>3.662942</td><td>&quot;/Users/kunkerd…</td><td>&quot;S001C001P001R0…</td></tr><tr><td>7</td><td>4</td><td>1</td><td>0.2443229</td><td>0.7984749</td><td>3.571494</td><td>3.667809</td><td>&quot;/Users/kunkerd…</td><td>&quot;S001C001P001R0…</td></tr><tr><td>8</td><td>4</td><td>1</td><td>0.2440889</td><td>0.7987409</td><td>3.571636</td><td>3.66799</td><td>&quot;/Users/kunkerd…</td><td>&quot;S001C001P001R0…</td></tr><tr><td>9</td><td>4</td><td>1</td><td>0.2438552</td><td>0.7985593</td><td>3.56953</td><td>3.665884</td><td>&quot;/Users/kunkerd…</td><td>&quot;S001C001P001R0…</td></tr><tr><td>10</td><td>4</td><td>1</td><td>0.2439739</td><td>0.7984462</td><td>3.569514</td><td>3.665852</td><td>&quot;/Users/kunkerd…</td><td>&quot;S001C001P001R0…</td></tr><tr><td>11</td><td>4</td><td>1</td><td>0.2436356</td><td>0.7986271</td><td>3.570036</td><td>3.666377</td><td>&quot;/Users/kunkerd…</td><td>&quot;S001C001P001R0…</td></tr><tr><td>12</td><td>4</td><td>1</td><td>0.2432003</td><td>0.7984149</td><td>3.570511</td><td>3.666764</td><td>&quot;/Users/kunkerd…</td><td>&quot;S001C001P001R0…</td></tr><tr><td>&hellip;</td><td>&hellip;</td><td>&hellip;</td><td>&hellip;</td><td>&hellip;</td><td>&hellip;</td><td>&hellip;</td><td>&hellip;</td><td>&hellip;</td></tr><tr><td>63</td><td>4</td><td>1</td><td>0.1179824</td><td>0.7913272</td><td>3.555174</td><td>3.644088</td><td>&quot;/Users/kunkerd…</td><td>&quot;S001C001P001R0…</td></tr><tr><td>64</td><td>4</td><td>1</td><td>0.1251196</td><td>0.78912</td><td>3.552722</td><td>3.641456</td><td>&quot;/Users/kunkerd…</td><td>&quot;S001C001P001R0…</td></tr><tr><td>65</td><td>4</td><td>1</td><td>0.1362142</td><td>0.7920425</td><td>3.559213</td><td>3.648819</td><td>&quot;/Users/kunkerd…</td><td>&quot;S001C001P001R0…</td></tr><tr><td>66</td><td>4</td><td>1</td><td>0.1455484</td><td>0.7927238</td><td>3.559799</td><td>3.649899</td><td>&quot;/Users/kunkerd…</td><td>&quot;S001C001P001R0…</td></tr><tr><td>67</td><td>4</td><td>1</td><td>0.153234</td><td>0.7928983</td><td>3.557797</td><td>3.648299</td><td>&quot;/Users/kunkerd…</td><td>&quot;S001C001P001R0…</td></tr><tr><td>68</td><td>4</td><td>1</td><td>0.1647312</td><td>0.7949349</td><td>3.560062</td><td>3.651452</td><td>&quot;/Users/kunkerd…</td><td>&quot;S001C001P001R0…</td></tr><tr><td>69</td><td>4</td><td>1</td><td>0.1707687</td><td>0.7939644</td><td>3.558874</td><td>3.65036</td><td>&quot;/Users/kunkerd…</td><td>&quot;S001C001P001R0…</td></tr><tr><td>70</td><td>4</td><td>1</td><td>0.1787668</td><td>0.7957985</td><td>3.562429</td><td>3.654607</td><td>&quot;/Users/kunkerd…</td><td>&quot;S001C001P001R0…</td></tr><tr><td>71</td><td>4</td><td>1</td><td>0.1961388</td><td>0.7983027</td><td>3.572275</td><td>3.665639</td><td>&quot;/Users/kunkerd…</td><td>&quot;S001C001P001R0…</td></tr><tr><td>72</td><td>4</td><td>1</td><td>0.2009499</td><td>0.801507</td><td>3.576687</td><td>3.670897</td><td>&quot;/Users/kunkerd…</td><td>&quot;S001C001P001R0…</td></tr><tr><td>73</td><td>4</td><td>1</td><td>0.2092958</td><td>0.8048807</td><td>3.580249</td><td>3.675571</td><td>&quot;/Users/kunkerd…</td><td>&quot;S001C001P001R0…</td></tr><tr><td>74</td><td>4</td><td>1</td><td>0.2211374</td><td>0.806586</td><td>3.576223</td><td>3.672717</td><td>&quot;/Users/kunkerd…</td><td>&quot;S001C001P001R0…</td></tr></tbody></table></div>"
      ],
      "text/plain": [
       "shape: (74, 9)\n",
       "┌───────┬───────┬───────────┬───────────┬───┬──────────┬─────────────┬──────────────┬──────────────┐\n",
       "│ frame ┆ joint ┆ skel_body ┆ x         ┆ … ┆ z        ┆ dis_from_00 ┆ file_path    ┆ filename_n_c │\n",
       "│ ---   ┆ ---   ┆ ---       ┆ ---       ┆   ┆ ---      ┆ ---         ┆ ---          ┆ lass         │\n",
       "│ i64   ┆ i64   ┆ i64       ┆ f64       ┆   ┆ f64      ┆ f64         ┆ str          ┆ ---          │\n",
       "│       ┆       ┆           ┆           ┆   ┆          ┆             ┆              ┆ str          │\n",
       "╞═══════╪═══════╪═══════════╪═══════════╪═══╪══════════╪═════════════╪══════════════╪══════════════╡\n",
       "│ 1     ┆ 4     ┆ 1         ┆ 0.2397518 ┆ … ┆ 3.564928 ┆ 3.660701    ┆ /Users/kunke ┆ S001C001P001 │\n",
       "│       ┆       ┆           ┆           ┆   ┆          ┆             ┆ rdthaisong/D ┆ R001A052.ske │\n",
       "│       ┆       ┆           ┆           ┆   ┆          ┆             ┆ ownloads…    ┆ leton.np…    │\n",
       "│ 2     ┆ 4     ┆ 1         ┆ 0.2402258 ┆ … ┆ 3.565463 ┆ 3.66132     ┆ /Users/kunke ┆ S001C001P001 │\n",
       "│       ┆       ┆           ┆           ┆   ┆          ┆             ┆ rdthaisong/D ┆ R001A052.ske │\n",
       "│       ┆       ┆           ┆           ┆   ┆          ┆             ┆ ownloads…    ┆ leton.np…    │\n",
       "│ 3     ┆ 4     ┆ 1         ┆ 0.2408795 ┆ … ┆ 3.565207 ┆ 3.661179    ┆ /Users/kunke ┆ S001C001P001 │\n",
       "│       ┆       ┆           ┆           ┆   ┆          ┆             ┆ rdthaisong/D ┆ R001A052.ske │\n",
       "│       ┆       ┆           ┆           ┆   ┆          ┆             ┆ ownloads…    ┆ leton.np…    │\n",
       "│ 4     ┆ 4     ┆ 1         ┆ 0.2411814 ┆ … ┆ 3.565036 ┆ 3.661092    ┆ /Users/kunke ┆ S001C001P001 │\n",
       "│       ┆       ┆           ┆           ┆   ┆          ┆             ┆ rdthaisong/D ┆ R001A052.ske │\n",
       "│       ┆       ┆           ┆           ┆   ┆          ┆             ┆ ownloads…    ┆ leton.np…    │\n",
       "│ …     ┆ …     ┆ …         ┆ …         ┆ … ┆ …        ┆ …           ┆ …            ┆ …            │\n",
       "│ 71    ┆ 4     ┆ 1         ┆ 0.1961388 ┆ … ┆ 3.572275 ┆ 3.665639    ┆ /Users/kunke ┆ S001C001P001 │\n",
       "│       ┆       ┆           ┆           ┆   ┆          ┆             ┆ rdthaisong/D ┆ R001A052.ske │\n",
       "│       ┆       ┆           ┆           ┆   ┆          ┆             ┆ ownloads…    ┆ leton.np…    │\n",
       "│ 72    ┆ 4     ┆ 1         ┆ 0.2009499 ┆ … ┆ 3.576687 ┆ 3.670897    ┆ /Users/kunke ┆ S001C001P001 │\n",
       "│       ┆       ┆           ┆           ┆   ┆          ┆             ┆ rdthaisong/D ┆ R001A052.ske │\n",
       "│       ┆       ┆           ┆           ┆   ┆          ┆             ┆ ownloads…    ┆ leton.np…    │\n",
       "│ 73    ┆ 4     ┆ 1         ┆ 0.2092958 ┆ … ┆ 3.580249 ┆ 3.675571    ┆ /Users/kunke ┆ S001C001P001 │\n",
       "│       ┆       ┆           ┆           ┆   ┆          ┆             ┆ rdthaisong/D ┆ R001A052.ske │\n",
       "│       ┆       ┆           ┆           ┆   ┆          ┆             ┆ ownloads…    ┆ leton.np…    │\n",
       "│ 74    ┆ 4     ┆ 1         ┆ 0.2211374 ┆ … ┆ 3.576223 ┆ 3.672717    ┆ /Users/kunke ┆ S001C001P001 │\n",
       "│       ┆       ┆           ┆           ┆   ┆          ┆             ┆ rdthaisong/D ┆ R001A052.ske │\n",
       "│       ┆       ┆           ┆           ┆   ┆          ┆             ┆ ownloads…    ┆ leton.np…    │\n",
       "└───────┴───────┴───────────┴───────────┴───┴──────────┴─────────────┴──────────────┴──────────────┘"
      ]
     },
     "execution_count": 14,
     "metadata": {},
     "output_type": "execute_result"
    }
   ],
   "source": [
    "action_j"
   ]
  },
  {
   "cell_type": "code",
   "execution_count": null,
   "metadata": {},
   "outputs": [],
   "source": []
  }
 ],
 "metadata": {
  "kernelspec": {
   "display_name": "Python 3",
   "language": "python",
   "name": "python3"
  },
  "language_info": {
   "codemirror_mode": {
    "name": "ipython",
    "version": 3
   },
   "file_extension": ".py",
   "mimetype": "text/x-python",
   "name": "python",
   "nbconvert_exporter": "python",
   "pygments_lexer": "ipython3",
   "version": "3.11.1"
  }
 },
 "nbformat": 4,
 "nbformat_minor": 2
}
