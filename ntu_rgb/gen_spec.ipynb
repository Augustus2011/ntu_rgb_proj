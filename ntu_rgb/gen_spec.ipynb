{
 "cells": [
  {
   "cell_type": "code",
   "execution_count": 7,
   "metadata": {},
   "outputs": [],
   "source": [
    "import polars as pl\n",
    "import matplotlib.pyplot as plt\n",
    "import glob\n",
    "import numpy as np\n",
    "import math\n",
    "import os\n",
    "import glob\n",
    "\n",
    "from tqdm import tqdm\n"
   ]
  },
  {
   "cell_type": "code",
   "execution_count": 8,
   "metadata": {},
   "outputs": [],
   "source": [
    "#pl.read_parquet(\"/Users/kunkerdthaisong/Downloads/dataframe.parquet\")"
   ]
  },
  {
   "cell_type": "code",
   "execution_count": 9,
   "metadata": {},
   "outputs": [
    {
     "data": {
      "text/html": [
       "<div><style>\n",
       ".dataframe > thead > tr,\n",
       ".dataframe > tbody > tr {\n",
       "  text-align: right;\n",
       "  white-space: pre-wrap;\n",
       "}\n",
       "</style>\n",
       "<small>shape: (33_374_600, 9)</small><table border=\"1\" class=\"dataframe\"><thead><tr><th>frame</th><th>joint</th><th>skel_body</th><th>x</th><th>y</th><th>z</th><th>dis_from_sensor</th><th>file_path</th><th>filename_n_class</th></tr><tr><td>i64</td><td>i64</td><td>i64</td><td>f64</td><td>f64</td><td>f64</td><td>f64</td><td>str</td><td>str</td></tr></thead><tbody><tr><td>1</td><td>1</td><td>0</td><td>-0.851477</td><td>0.1916033</td><td>3.384463</td><td>1.064471</td><td>&quot;/Users/kunkerd…</td><td>&quot;S001C001P001R0…</td></tr><tr><td>1</td><td>2</td><td>0</td><td>-0.873564</td><td>0.4063588</td><td>3.341162</td><td>1.210748</td><td>&quot;/Users/kunkerd…</td><td>&quot;S001C001P001R0…</td></tr><tr><td>1</td><td>3</td><td>0</td><td>-0.893265</td><td>0.6162513</td><td>3.288516</td><td>1.370976</td><td>&quot;/Users/kunkerd…</td><td>&quot;S001C001P001R0…</td></tr><tr><td>1</td><td>4</td><td>0</td><td>-0.887127</td><td>0.7205115</td><td>3.303393</td><td>1.448603</td><td>&quot;/Users/kunkerd…</td><td>&quot;S001C001P001R0…</td></tr><tr><td>1</td><td>5</td><td>0</td><td>-0.904413</td><td>0.4904004</td><td>3.197891</td><td>1.283276</td><td>&quot;/Users/kunkerd…</td><td>&quot;S001C001P001R0…</td></tr><tr><td>1</td><td>6</td><td>0</td><td>-0.892437</td><td>0.2878125</td><td>3.192554</td><td>1.139078</td><td>&quot;/Users/kunkerd…</td><td>&quot;S001C001P001R0…</td></tr><tr><td>1</td><td>7</td><td>0</td><td>-0.830653</td><td>0.092949</td><td>3.252523</td><td>0.97768</td><td>&quot;/Users/kunkerd…</td><td>&quot;S001C001P001R0…</td></tr><tr><td>1</td><td>8</td><td>0</td><td>-0.823994</td><td>0.056782</td><td>3.269045</td><td>0.954492</td><td>&quot;/Users/kunkerd…</td><td>&quot;S001C001P001R0…</td></tr><tr><td>1</td><td>9</td><td>0</td><td>-0.851896</td><td>0.546665</td><td>3.398047</td><td>1.303607</td><td>&quot;/Users/kunkerd…</td><td>&quot;S001C001P001R0…</td></tr><tr><td>1</td><td>10</td><td>0</td><td>-0.866232</td><td>0.3401209</td><td>3.20869</td><td>1.152483</td><td>&quot;/Users/kunkerd…</td><td>&quot;S001C001P001R0…</td></tr><tr><td>1</td><td>11</td><td>0</td><td>-0.871238</td><td>0.1401769</td><td>3.222522</td><td>1.036032</td><td>&quot;/Users/kunkerd…</td><td>&quot;S001C001P001R0…</td></tr><tr><td>1</td><td>12</td><td>0</td><td>-0.853801</td><td>0.1053482</td><td>3.247466</td><td>1.003603</td><td>&quot;/Users/kunkerd…</td><td>&quot;S001C001P001R0…</td></tr><tr><td>&hellip;</td><td>&hellip;</td><td>&hellip;</td><td>&hellip;</td><td>&hellip;</td><td>&hellip;</td><td>&hellip;</td><td>&hellip;</td><td>&hellip;</td></tr><tr><td>77</td><td>14</td><td>1</td><td>-0.52643</td><td>-0.498876</td><td>3.325936</td><td>0.547001</td><td>&quot;/Users/kunkerd…</td><td>&quot;S017C003P020R0…</td></tr><tr><td>77</td><td>15</td><td>1</td><td>-0.67151</td><td>-0.737</td><td>3.450122</td><td>0.783566</td><td>&quot;/Users/kunkerd…</td><td>&quot;S017C003P020R0…</td></tr><tr><td>77</td><td>16</td><td>1</td><td>-0.731577</td><td>-0.807009</td><td>3.375893</td><td>0.84612</td><td>&quot;/Users/kunkerd…</td><td>&quot;S017C003P020R0…</td></tr><tr><td>77</td><td>17</td><td>1</td><td>-0.337236</td><td>-0.202578</td><td>3.041197</td><td>0.43153</td><td>&quot;/Users/kunkerd…</td><td>&quot;S017C003P020R0…</td></tr><tr><td>77</td><td>18</td><td>1</td><td>-0.252111</td><td>-0.509733</td><td>3.223115</td><td>0.2686</td><td>&quot;/Users/kunkerd…</td><td>&quot;S017C003P020R0…</td></tr><tr><td>77</td><td>19</td><td>1</td><td>-0.145023</td><td>-0.75759</td><td>3.434888</td><td>0.436086</td><td>&quot;/Users/kunkerd…</td><td>&quot;S017C003P020R0…</td></tr><tr><td>77</td><td>20</td><td>1</td><td>-0.192505</td><td>-0.82666</td><td>3.447266</td><td>0.513392</td><td>&quot;/Users/kunkerd…</td><td>&quot;S017C003P020R0…</td></tr><tr><td>77</td><td>21</td><td>1</td><td>-0.391017</td><td>0.2619603</td><td>2.875133</td><td>0.85059</td><td>&quot;/Users/kunkerd…</td><td>&quot;S017C003P020R0…</td></tr><tr><td>77</td><td>22</td><td>1</td><td>-0.537376</td><td>-0.130145</td><td>3.388469</td><td>0.638991</td><td>&quot;/Users/kunkerd…</td><td>&quot;S017C003P020R0…</td></tr><tr><td>77</td><td>23</td><td>1</td><td>-0.557478</td><td>-0.097744</td><td>3.355465</td><td>0.662419</td><td>&quot;/Users/kunkerd…</td><td>&quot;S017C003P020R0…</td></tr><tr><td>77</td><td>24</td><td>1</td><td>-0.361627</td><td>-0.373354</td><td>2.96955</td><td>0.431344</td><td>&quot;/Users/kunkerd…</td><td>&quot;S017C003P020R0…</td></tr><tr><td>77</td><td>25</td><td>1</td><td>-0.325352</td><td>-0.284281</td><td>2.953</td><td>0.430445</td><td>&quot;/Users/kunkerd…</td><td>&quot;S017C003P020R0…</td></tr></tbody></table></div>"
      ],
      "text/plain": [
       "shape: (33_374_600, 9)\n",
       "┌───────┬───────┬───────────┬───────────┬───┬──────────┬──────────────┬──────────────┬─────────────┐\n",
       "│ frame ┆ joint ┆ skel_body ┆ x         ┆ … ┆ z        ┆ dis_from_sen ┆ file_path    ┆ filename_n_ │\n",
       "│ ---   ┆ ---   ┆ ---       ┆ ---       ┆   ┆ ---      ┆ sor          ┆ ---          ┆ class       │\n",
       "│ i64   ┆ i64   ┆ i64       ┆ f64       ┆   ┆ f64      ┆ ---          ┆ str          ┆ ---         │\n",
       "│       ┆       ┆           ┆           ┆   ┆          ┆ f64          ┆              ┆ str         │\n",
       "╞═══════╪═══════╪═══════════╪═══════════╪═══╪══════════╪══════════════╪══════════════╪═════════════╡\n",
       "│ 1     ┆ 1     ┆ 0         ┆ -0.851477 ┆ … ┆ 3.384463 ┆ 1.064471     ┆ /Users/kunke ┆ S001C001P00 │\n",
       "│       ┆       ┆           ┆           ┆   ┆          ┆              ┆ rdthaisong/D ┆ 1R001A050.s │\n",
       "│       ┆       ┆           ┆           ┆   ┆          ┆              ┆ ownloads…    ┆ keleton.np… │\n",
       "│ 1     ┆ 2     ┆ 0         ┆ -0.873564 ┆ … ┆ 3.341162 ┆ 1.210748     ┆ /Users/kunke ┆ S001C001P00 │\n",
       "│       ┆       ┆           ┆           ┆   ┆          ┆              ┆ rdthaisong/D ┆ 1R001A050.s │\n",
       "│       ┆       ┆           ┆           ┆   ┆          ┆              ┆ ownloads…    ┆ keleton.np… │\n",
       "│ 1     ┆ 3     ┆ 0         ┆ -0.893265 ┆ … ┆ 3.288516 ┆ 1.370976     ┆ /Users/kunke ┆ S001C001P00 │\n",
       "│       ┆       ┆           ┆           ┆   ┆          ┆              ┆ rdthaisong/D ┆ 1R001A050.s │\n",
       "│       ┆       ┆           ┆           ┆   ┆          ┆              ┆ ownloads…    ┆ keleton.np… │\n",
       "│ 1     ┆ 4     ┆ 0         ┆ -0.887127 ┆ … ┆ 3.303393 ┆ 1.448603     ┆ /Users/kunke ┆ S001C001P00 │\n",
       "│       ┆       ┆           ┆           ┆   ┆          ┆              ┆ rdthaisong/D ┆ 1R001A050.s │\n",
       "│       ┆       ┆           ┆           ┆   ┆          ┆              ┆ ownloads…    ┆ keleton.np… │\n",
       "│ …     ┆ …     ┆ …         ┆ …         ┆ … ┆ …        ┆ …            ┆ …            ┆ …           │\n",
       "│ 77    ┆ 22    ┆ 1         ┆ -0.537376 ┆ … ┆ 3.388469 ┆ 0.638991     ┆ /Users/kunke ┆ S017C003P02 │\n",
       "│       ┆       ┆           ┆           ┆   ┆          ┆              ┆ rdthaisong/D ┆ 0R002A060.s │\n",
       "│       ┆       ┆           ┆           ┆   ┆          ┆              ┆ ownloads…    ┆ keleton.np… │\n",
       "│ 77    ┆ 23    ┆ 1         ┆ -0.557478 ┆ … ┆ 3.355465 ┆ 0.662419     ┆ /Users/kunke ┆ S017C003P02 │\n",
       "│       ┆       ┆           ┆           ┆   ┆          ┆              ┆ rdthaisong/D ┆ 0R002A060.s │\n",
       "│       ┆       ┆           ┆           ┆   ┆          ┆              ┆ ownloads…    ┆ keleton.np… │\n",
       "│ 77    ┆ 24    ┆ 1         ┆ -0.361627 ┆ … ┆ 2.96955  ┆ 0.431344     ┆ /Users/kunke ┆ S017C003P02 │\n",
       "│       ┆       ┆           ┆           ┆   ┆          ┆              ┆ rdthaisong/D ┆ 0R002A060.s │\n",
       "│       ┆       ┆           ┆           ┆   ┆          ┆              ┆ ownloads…    ┆ keleton.np… │\n",
       "│ 77    ┆ 25    ┆ 1         ┆ -0.325352 ┆ … ┆ 2.953    ┆ 0.430445     ┆ /Users/kunke ┆ S017C003P02 │\n",
       "│       ┆       ┆           ┆           ┆   ┆          ┆              ┆ rdthaisong/D ┆ 0R002A060.s │\n",
       "│       ┆       ┆           ┆           ┆   ┆          ┆              ┆ ownloads…    ┆ keleton.np… │\n",
       "└───────┴───────┴───────────┴───────────┴───┴──────────┴──────────────┴──────────────┴─────────────┘"
      ]
     },
     "execution_count": 9,
     "metadata": {},
     "output_type": "execute_result"
    }
   ],
   "source": [
    "df=pl.read_parquet(\"/Users/kunkerdthaisong/Downloads/two_person_dataframe.parquet\")\n",
    "df"
   ]
  },
  {
   "cell_type": "code",
   "execution_count": 11,
   "metadata": {},
   "outputs": [
    {
     "data": {
      "text/plain": [
       "30"
      ]
     },
     "execution_count": 11,
     "metadata": {},
     "output_type": "execute_result"
    }
   ],
   "source": [
    "df[\"filename_n_class\"].unique(maintain_order=True)[:30]"
   ]
  },
  {
   "cell_type": "code",
   "execution_count": 6,
   "metadata": {},
   "outputs": [
    {
     "data": {
      "text/plain": [
       "(True, 'S001C001P001R001A050.skeleton.npy')"
      ]
     },
     "execution_count": 6,
     "metadata": {},
     "output_type": "execute_result"
    }
   ],
   "source": [
    "len(df[\"skel_body\"].unique())>1,os.path.basename(df[\"file_path\"][0])"
   ]
  },
  {
   "cell_type": "code",
   "execution_count": 39,
   "metadata": {},
   "outputs": [],
   "source": [
    "def lin_filter(df:pl.DataFrame,start:int)->int:\n",
    "    for i,j in enumerate(df[\"filename_n_class\"][start:]):\n",
    "        if(df[\"filename_n_class\"][start]!=j):\n",
    "            start=start+i\n",
    "            break\n",
    "    return start"
   ]
  },
  {
   "cell_type": "code",
   "execution_count": 69,
   "metadata": {},
   "outputs": [],
   "source": [
    "#df[:131500].unique(maintain_order=True).write_parquet(\"/Users/kunkerdthaisong/ipu/ntu_rgb_proj/ntu_rgb/two_person_a50_a60_3.parquet\")"
   ]
  },
  {
   "cell_type": "code",
   "execution_count": 73,
   "metadata": {},
   "outputs": [],
   "source": [
    "df=pl.read_parquet(\"/Users/kunkerdthaisong/ipu/ntu_rgb_proj/ntu_rgb/two_person_a50_a60_3.parquet\")\n",
    "df=df.filter(pl.col(\"joint\").is_in([4,16,20,22,24]))"
   ]
  },
  {
   "cell_type": "code",
   "execution_count": 90,
   "metadata": {},
   "outputs": [
    {
     "name": "stdout",
     "output_type": "stream",
     "text": [
      "0 740 740\n",
      "740 1460 720\n",
      "1460 2200 740\n",
      "2200 3530 1330\n",
      "3530 4220 690\n",
      "4220 5170 950\n",
      "5170 6320 1150\n",
      "6320 7250 930\n",
      "7250 7960 710\n",
      "7960 8950 990\n",
      "8950 9880 930\n",
      "9880 10620 740\n",
      "10620 11380 760\n",
      "11380 12080 700\n",
      "12080 13010 930\n",
      "13010 13650 640\n",
      "13650 14410 760\n",
      "14410 15090 680\n",
      "15090 15960 870\n",
      "15960 16680 720\n",
      "16680 17340 660\n",
      "17340 18330 990\n",
      "18330 18940 610\n",
      "18940 19570 630\n",
      "19570 20180 610\n",
      "20180 20940 760\n",
      "20940 21490 550\n",
      "21490 22290 800\n",
      "22290 22990 700\n",
      "22990 23810 820\n",
      "23810 24550 740\n",
      "24550 25490 940\n",
      "25490 25490 0\n"
     ]
    }
   ],
   "source": [
    "prev=0\n",
    "n=0\n",
    "while n<33:\n",
    "    ns=lin_filter(df,prev)\n",
    "    print(prev,ns,ns-prev)\n",
    "    prev=ns\n",
    "    n+=1"
   ]
  },
  {
   "cell_type": "code",
   "execution_count": null,
   "metadata": {},
   "outputs": [],
   "source": []
  }
 ],
 "metadata": {
  "kernelspec": {
   "display_name": "venv",
   "language": "python",
   "name": "python3"
  },
  "language_info": {
   "codemirror_mode": {
    "name": "ipython",
    "version": 3
   },
   "file_extension": ".py",
   "mimetype": "text/x-python",
   "name": "python",
   "nbconvert_exporter": "python",
   "pygments_lexer": "ipython3",
   "version": "3.11.1"
  }
 },
 "nbformat": 4,
 "nbformat_minor": 2
}
