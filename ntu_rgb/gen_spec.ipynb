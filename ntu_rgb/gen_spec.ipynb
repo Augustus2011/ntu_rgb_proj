{
 "cells": [
  {
   "cell_type": "code",
   "execution_count": 1,
   "metadata": {},
   "outputs": [],
   "source": [
    "import polars as pl\n",
    "import matplotlib.pyplot as plt\n",
    "import glob\n",
    "import numpy as np\n",
    "import math\n",
    "import os\n",
    "import glob\n",
    "\n",
    "from tqdm import tqdm\n"
   ]
  },
  {
   "cell_type": "code",
   "execution_count": 2,
   "metadata": {},
   "outputs": [],
   "source": [
    "#pl.read_parquet(\"/Users/kunkerdthaisong/Downloads/dataframe.parquet\")"
   ]
  },
  {
   "cell_type": "code",
   "execution_count": 3,
   "metadata": {},
   "outputs": [
    {
     "data": {
      "text/html": [
       "<div><style>\n",
       ".dataframe > thead > tr,\n",
       ".dataframe > tbody > tr {\n",
       "  text-align: right;\n",
       "  white-space: pre-wrap;\n",
       "}\n",
       "</style>\n",
       "<small>shape: (33_374_600, 9)</small><table border=\"1\" class=\"dataframe\"><thead><tr><th>frame</th><th>joint</th><th>skel_body</th><th>x</th><th>y</th><th>z</th><th>dis_from_sensor</th><th>file_path</th><th>filename_n_class</th></tr><tr><td>i64</td><td>i64</td><td>i64</td><td>f64</td><td>f64</td><td>f64</td><td>f64</td><td>str</td><td>str</td></tr></thead><tbody><tr><td>1</td><td>1</td><td>0</td><td>-0.851477</td><td>0.1916033</td><td>3.384463</td><td>1.064471</td><td>&quot;/Users/kunkerd…</td><td>&quot;S001C001P001R0…</td></tr><tr><td>1</td><td>2</td><td>0</td><td>-0.873564</td><td>0.4063588</td><td>3.341162</td><td>1.210748</td><td>&quot;/Users/kunkerd…</td><td>&quot;S001C001P001R0…</td></tr><tr><td>1</td><td>3</td><td>0</td><td>-0.893265</td><td>0.6162513</td><td>3.288516</td><td>1.370976</td><td>&quot;/Users/kunkerd…</td><td>&quot;S001C001P001R0…</td></tr><tr><td>1</td><td>4</td><td>0</td><td>-0.887127</td><td>0.7205115</td><td>3.303393</td><td>1.448603</td><td>&quot;/Users/kunkerd…</td><td>&quot;S001C001P001R0…</td></tr><tr><td>1</td><td>5</td><td>0</td><td>-0.904413</td><td>0.4904004</td><td>3.197891</td><td>1.283276</td><td>&quot;/Users/kunkerd…</td><td>&quot;S001C001P001R0…</td></tr><tr><td>1</td><td>6</td><td>0</td><td>-0.892437</td><td>0.2878125</td><td>3.192554</td><td>1.139078</td><td>&quot;/Users/kunkerd…</td><td>&quot;S001C001P001R0…</td></tr><tr><td>1</td><td>7</td><td>0</td><td>-0.830653</td><td>0.092949</td><td>3.252523</td><td>0.97768</td><td>&quot;/Users/kunkerd…</td><td>&quot;S001C001P001R0…</td></tr><tr><td>1</td><td>8</td><td>0</td><td>-0.823994</td><td>0.056782</td><td>3.269045</td><td>0.954492</td><td>&quot;/Users/kunkerd…</td><td>&quot;S001C001P001R0…</td></tr><tr><td>1</td><td>9</td><td>0</td><td>-0.851896</td><td>0.546665</td><td>3.398047</td><td>1.303607</td><td>&quot;/Users/kunkerd…</td><td>&quot;S001C001P001R0…</td></tr><tr><td>1</td><td>10</td><td>0</td><td>-0.866232</td><td>0.3401209</td><td>3.20869</td><td>1.152483</td><td>&quot;/Users/kunkerd…</td><td>&quot;S001C001P001R0…</td></tr><tr><td>1</td><td>11</td><td>0</td><td>-0.871238</td><td>0.1401769</td><td>3.222522</td><td>1.036032</td><td>&quot;/Users/kunkerd…</td><td>&quot;S001C001P001R0…</td></tr><tr><td>1</td><td>12</td><td>0</td><td>-0.853801</td><td>0.1053482</td><td>3.247466</td><td>1.003603</td><td>&quot;/Users/kunkerd…</td><td>&quot;S001C001P001R0…</td></tr><tr><td>&hellip;</td><td>&hellip;</td><td>&hellip;</td><td>&hellip;</td><td>&hellip;</td><td>&hellip;</td><td>&hellip;</td><td>&hellip;</td><td>&hellip;</td></tr><tr><td>77</td><td>14</td><td>1</td><td>-0.52643</td><td>-0.498876</td><td>3.325936</td><td>0.547001</td><td>&quot;/Users/kunkerd…</td><td>&quot;S017C003P020R0…</td></tr><tr><td>77</td><td>15</td><td>1</td><td>-0.67151</td><td>-0.737</td><td>3.450122</td><td>0.783566</td><td>&quot;/Users/kunkerd…</td><td>&quot;S017C003P020R0…</td></tr><tr><td>77</td><td>16</td><td>1</td><td>-0.731577</td><td>-0.807009</td><td>3.375893</td><td>0.84612</td><td>&quot;/Users/kunkerd…</td><td>&quot;S017C003P020R0…</td></tr><tr><td>77</td><td>17</td><td>1</td><td>-0.337236</td><td>-0.202578</td><td>3.041197</td><td>0.43153</td><td>&quot;/Users/kunkerd…</td><td>&quot;S017C003P020R0…</td></tr><tr><td>77</td><td>18</td><td>1</td><td>-0.252111</td><td>-0.509733</td><td>3.223115</td><td>0.2686</td><td>&quot;/Users/kunkerd…</td><td>&quot;S017C003P020R0…</td></tr><tr><td>77</td><td>19</td><td>1</td><td>-0.145023</td><td>-0.75759</td><td>3.434888</td><td>0.436086</td><td>&quot;/Users/kunkerd…</td><td>&quot;S017C003P020R0…</td></tr><tr><td>77</td><td>20</td><td>1</td><td>-0.192505</td><td>-0.82666</td><td>3.447266</td><td>0.513392</td><td>&quot;/Users/kunkerd…</td><td>&quot;S017C003P020R0…</td></tr><tr><td>77</td><td>21</td><td>1</td><td>-0.391017</td><td>0.2619603</td><td>2.875133</td><td>0.85059</td><td>&quot;/Users/kunkerd…</td><td>&quot;S017C003P020R0…</td></tr><tr><td>77</td><td>22</td><td>1</td><td>-0.537376</td><td>-0.130145</td><td>3.388469</td><td>0.638991</td><td>&quot;/Users/kunkerd…</td><td>&quot;S017C003P020R0…</td></tr><tr><td>77</td><td>23</td><td>1</td><td>-0.557478</td><td>-0.097744</td><td>3.355465</td><td>0.662419</td><td>&quot;/Users/kunkerd…</td><td>&quot;S017C003P020R0…</td></tr><tr><td>77</td><td>24</td><td>1</td><td>-0.361627</td><td>-0.373354</td><td>2.96955</td><td>0.431344</td><td>&quot;/Users/kunkerd…</td><td>&quot;S017C003P020R0…</td></tr><tr><td>77</td><td>25</td><td>1</td><td>-0.325352</td><td>-0.284281</td><td>2.953</td><td>0.430445</td><td>&quot;/Users/kunkerd…</td><td>&quot;S017C003P020R0…</td></tr></tbody></table></div>"
      ],
      "text/plain": [
       "shape: (33_374_600, 9)\n",
       "┌───────┬───────┬───────────┬───────────┬───┬──────────┬──────────────┬──────────────┬─────────────┐\n",
       "│ frame ┆ joint ┆ skel_body ┆ x         ┆ … ┆ z        ┆ dis_from_sen ┆ file_path    ┆ filename_n_ │\n",
       "│ ---   ┆ ---   ┆ ---       ┆ ---       ┆   ┆ ---      ┆ sor          ┆ ---          ┆ class       │\n",
       "│ i64   ┆ i64   ┆ i64       ┆ f64       ┆   ┆ f64      ┆ ---          ┆ str          ┆ ---         │\n",
       "│       ┆       ┆           ┆           ┆   ┆          ┆ f64          ┆              ┆ str         │\n",
       "╞═══════╪═══════╪═══════════╪═══════════╪═══╪══════════╪══════════════╪══════════════╪═════════════╡\n",
       "│ 1     ┆ 1     ┆ 0         ┆ -0.851477 ┆ … ┆ 3.384463 ┆ 1.064471     ┆ /Users/kunke ┆ S001C001P00 │\n",
       "│       ┆       ┆           ┆           ┆   ┆          ┆              ┆ rdthaisong/D ┆ 1R001A050.s │\n",
       "│       ┆       ┆           ┆           ┆   ┆          ┆              ┆ ownloads…    ┆ keleton.np… │\n",
       "│ 1     ┆ 2     ┆ 0         ┆ -0.873564 ┆ … ┆ 3.341162 ┆ 1.210748     ┆ /Users/kunke ┆ S001C001P00 │\n",
       "│       ┆       ┆           ┆           ┆   ┆          ┆              ┆ rdthaisong/D ┆ 1R001A050.s │\n",
       "│       ┆       ┆           ┆           ┆   ┆          ┆              ┆ ownloads…    ┆ keleton.np… │\n",
       "│ 1     ┆ 3     ┆ 0         ┆ -0.893265 ┆ … ┆ 3.288516 ┆ 1.370976     ┆ /Users/kunke ┆ S001C001P00 │\n",
       "│       ┆       ┆           ┆           ┆   ┆          ┆              ┆ rdthaisong/D ┆ 1R001A050.s │\n",
       "│       ┆       ┆           ┆           ┆   ┆          ┆              ┆ ownloads…    ┆ keleton.np… │\n",
       "│ 1     ┆ 4     ┆ 0         ┆ -0.887127 ┆ … ┆ 3.303393 ┆ 1.448603     ┆ /Users/kunke ┆ S001C001P00 │\n",
       "│       ┆       ┆           ┆           ┆   ┆          ┆              ┆ rdthaisong/D ┆ 1R001A050.s │\n",
       "│       ┆       ┆           ┆           ┆   ┆          ┆              ┆ ownloads…    ┆ keleton.np… │\n",
       "│ …     ┆ …     ┆ …         ┆ …         ┆ … ┆ …        ┆ …            ┆ …            ┆ …           │\n",
       "│ 77    ┆ 22    ┆ 1         ┆ -0.537376 ┆ … ┆ 3.388469 ┆ 0.638991     ┆ /Users/kunke ┆ S017C003P02 │\n",
       "│       ┆       ┆           ┆           ┆   ┆          ┆              ┆ rdthaisong/D ┆ 0R002A060.s │\n",
       "│       ┆       ┆           ┆           ┆   ┆          ┆              ┆ ownloads…    ┆ keleton.np… │\n",
       "│ 77    ┆ 23    ┆ 1         ┆ -0.557478 ┆ … ┆ 3.355465 ┆ 0.662419     ┆ /Users/kunke ┆ S017C003P02 │\n",
       "│       ┆       ┆           ┆           ┆   ┆          ┆              ┆ rdthaisong/D ┆ 0R002A060.s │\n",
       "│       ┆       ┆           ┆           ┆   ┆          ┆              ┆ ownloads…    ┆ keleton.np… │\n",
       "│ 77    ┆ 24    ┆ 1         ┆ -0.361627 ┆ … ┆ 2.96955  ┆ 0.431344     ┆ /Users/kunke ┆ S017C003P02 │\n",
       "│       ┆       ┆           ┆           ┆   ┆          ┆              ┆ rdthaisong/D ┆ 0R002A060.s │\n",
       "│       ┆       ┆           ┆           ┆   ┆          ┆              ┆ ownloads…    ┆ keleton.np… │\n",
       "│ 77    ┆ 25    ┆ 1         ┆ -0.325352 ┆ … ┆ 2.953    ┆ 0.430445     ┆ /Users/kunke ┆ S017C003P02 │\n",
       "│       ┆       ┆           ┆           ┆   ┆          ┆              ┆ rdthaisong/D ┆ 0R002A060.s │\n",
       "│       ┆       ┆           ┆           ┆   ┆          ┆              ┆ ownloads…    ┆ keleton.np… │\n",
       "└───────┴───────┴───────────┴───────────┴───┴──────────┴──────────────┴──────────────┴─────────────┘"
      ]
     },
     "execution_count": 3,
     "metadata": {},
     "output_type": "execute_result"
    }
   ],
   "source": [
    "df=pl.read_parquet(\"/Users/kunkerdthaisong/Downloads/two_person_dataframe.parquet\")\n",
    "df"
   ]
  },
  {
   "cell_type": "code",
   "execution_count": 4,
   "metadata": {},
   "outputs": [
    {
     "data": {
      "text/html": [
       "<div><style>\n",
       ".dataframe > thead > tr,\n",
       ".dataframe > tbody > tr {\n",
       "  text-align: right;\n",
       "  white-space: pre-wrap;\n",
       "}\n",
       "</style>\n",
       "<small>shape: (30,)</small><table border=\"1\" class=\"dataframe\"><thead><tr><th>filename_n_class</th></tr><tr><td>str</td></tr></thead><tbody><tr><td>&quot;S001C001P001R0…</td></tr><tr><td>&quot;S001C001P001R0…</td></tr><tr><td>&quot;S001C001P001R0…</td></tr><tr><td>&quot;S001C001P001R0…</td></tr><tr><td>&quot;S001C001P001R0…</td></tr><tr><td>&quot;S001C001P001R0…</td></tr><tr><td>&quot;S001C001P001R0…</td></tr><tr><td>&quot;S001C001P001R0…</td></tr><tr><td>&quot;S001C001P001R0…</td></tr><tr><td>&quot;S001C001P001R0…</td></tr><tr><td>&quot;S001C001P001R0…</td></tr><tr><td>&quot;S001C001P001R0…</td></tr><tr><td>&hellip;</td></tr><tr><td>&quot;S001C001P001R0…</td></tr><tr><td>&quot;S001C001P001R0…</td></tr><tr><td>&quot;S001C001P001R0…</td></tr><tr><td>&quot;S001C001P001R0…</td></tr><tr><td>&quot;S001C001P002R0…</td></tr><tr><td>&quot;S001C001P002R0…</td></tr><tr><td>&quot;S001C001P002R0…</td></tr><tr><td>&quot;S001C001P002R0…</td></tr><tr><td>&quot;S001C001P002R0…</td></tr><tr><td>&quot;S001C001P002R0…</td></tr><tr><td>&quot;S001C001P002R0…</td></tr><tr><td>&quot;S001C001P002R0…</td></tr></tbody></table></div>"
      ],
      "text/plain": [
       "shape: (30,)\n",
       "Series: 'filename_n_class' [str]\n",
       "[\n",
       "\t\"S001C001P001R0…\n",
       "\t\"S001C001P001R0…\n",
       "\t\"S001C001P001R0…\n",
       "\t\"S001C001P001R0…\n",
       "\t\"S001C001P001R0…\n",
       "\t\"S001C001P001R0…\n",
       "\t\"S001C001P001R0…\n",
       "\t\"S001C001P001R0…\n",
       "\t\"S001C001P001R0…\n",
       "\t\"S001C001P001R0…\n",
       "\t\"S001C001P001R0…\n",
       "\t\"S001C001P001R0…\n",
       "\t…\n",
       "\t\"S001C001P001R0…\n",
       "\t\"S001C001P001R0…\n",
       "\t\"S001C001P001R0…\n",
       "\t\"S001C001P001R0…\n",
       "\t\"S001C001P001R0…\n",
       "\t\"S001C001P002R0…\n",
       "\t\"S001C001P002R0…\n",
       "\t\"S001C001P002R0…\n",
       "\t\"S001C001P002R0…\n",
       "\t\"S001C001P002R0…\n",
       "\t\"S001C001P002R0…\n",
       "\t\"S001C001P002R0…\n",
       "\t\"S001C001P002R0…\n",
       "]"
      ]
     },
     "execution_count": 4,
     "metadata": {},
     "output_type": "execute_result"
    }
   ],
   "source": [
    "df[\"filename_n_class\"].unique(maintain_order=True)[:30]"
   ]
  },
  {
   "cell_type": "code",
   "execution_count": 5,
   "metadata": {},
   "outputs": [
    {
     "data": {
      "text/plain": [
       "(True, 'S001C001P001R001A050.skeleton.npy')"
      ]
     },
     "execution_count": 5,
     "metadata": {},
     "output_type": "execute_result"
    }
   ],
   "source": [
    "len(df[\"skel_body\"].unique())>1,os.path.basename(df[\"file_path\"][0])"
   ]
  },
  {
   "cell_type": "code",
   "execution_count": 6,
   "metadata": {},
   "outputs": [],
   "source": [
    "def lin_filter(df:pl.DataFrame,start:int)->int:\n",
    "    for i,j in enumerate(df[\"filename_n_class\"][start:]):\n",
    "        if(df[\"filename_n_class\"][start]!=j):\n",
    "            start=start+i\n",
    "            break\n",
    "    return start"
   ]
  },
  {
   "cell_type": "code",
   "execution_count": 69,
   "metadata": {},
   "outputs": [],
   "source": [
    "#df[:131500].unique(maintain_order=True).write_parquet(\"/Users/kunkerdthaisong/ipu/ntu_rgb_proj/ntu_rgb/two_person_a50_a60_3.parquet\")"
   ]
  },
  {
   "cell_type": "code",
   "execution_count": 10,
   "metadata": {},
   "outputs": [],
   "source": [
    "df=pl.read_parquet(\"/Users/kunkerdthaisong/ipu/ntu_rgb_proj/ntu_rgb/two_person_a50_a60_3.parquet\")\n",
    "df=df.filter(pl.col(\"joint\").is_in([4,16,20,22,24]))"
   ]
  },
  {
   "cell_type": "code",
   "execution_count": 11,
   "metadata": {},
   "outputs": [
    {
     "name": "stdout",
     "output_type": "stream",
     "text": [
      "0 740 740\n",
      "740 1460 720\n"
     ]
    }
   ],
   "source": [
    "prev=0\n",
    "n=0\n",
    "while n<2:\n",
    "    ns=lin_filter(df,prev)\n",
    "    print(prev,ns,ns-prev)\n",
    "    prev=ns\n",
    "    n+=1"
   ]
  },
  {
   "cell_type": "code",
   "execution_count": 14,
   "metadata": {},
   "outputs": [],
   "source": [
    "action=df[0:740]"
   ]
  },
  {
   "cell_type": "code",
   "execution_count": 47,
   "metadata": {},
   "outputs": [],
   "source": [
    "action_4=action.filter(pl.col(\"joint\")==4)# head\n",
    "action_16=action.filter(pl.col(\"joint\")==16)#left foot\n",
    "action_20=action.filter(pl.col(\"joint\")==20)#right foot\n",
    "action_22=action.filter(pl.col(\"joint\")==22)#left hand\n",
    "action_24=action.filter(pl.col(\"joint\")==24)#right hand"
   ]
  },
  {
   "cell_type": "code",
   "execution_count": 48,
   "metadata": {},
   "outputs": [],
   "source": [
    "def vel(df:pl.DataFrame)->np.ndarray:\n",
    "    yo=[]\n",
    "    i=0\n",
    "    while(i<len(df)-1):\n",
    "        dis=abs(df[\"dis_from_sensor\"][i]-df[\"dis_from_sensor\"][i+1])\n",
    "        yo.append(dis)\n",
    "        i+=1\n",
    "    return np.array(yo)"
   ]
  },
  {
   "cell_type": "code",
   "execution_count": 49,
   "metadata": {},
   "outputs": [
    {
     "data": {
      "text/plain": [
       "0.1875"
      ]
     },
     "execution_count": 49,
     "metadata": {},
     "output_type": "execute_result"
    }
   ],
   "source": [
    "v_a_j4=vel(action_4)\n",
    "3*(10**8)/((1.6)*10**9)"
   ]
  },
  {
   "cell_type": "code",
   "execution_count": 51,
   "metadata": {},
   "outputs": [
    {
     "data": {
      "text/plain": [
       "array([4.40065101e-04, 3.65176713e-04, 7.53915487e-04, 2.42485692e-03,\n",
       "       4.12017112e-04, 3.66735021e-04, 1.62437373e-04, 5.69054652e-05,\n",
       "       1.05538214e-04, 1.02312154e-03, 4.21944861e-04, 2.56059923e-04,\n",
       "       8.02765238e-04, 9.64390784e-06, 2.63942828e-04, 6.16260291e-05,\n",
       "       5.71660787e-05, 3.82733705e-04, 5.09205395e-05, 9.57230137e-04,\n",
       "       1.17200039e-04, 9.48666571e-05, 8.48628029e-04, 3.78703694e-04,\n",
       "       4.21508332e-04, 3.28183730e-04, 3.41343098e-04, 5.93507394e-04,\n",
       "       2.38227025e-04, 4.46015336e-04, 2.52000974e-03, 4.28429961e-03,\n",
       "       3.05911278e-03, 3.56536787e-03, 2.53362000e-03, 6.31623849e-03,\n",
       "       1.77642263e-02, 3.29078804e-03, 3.91124447e-03, 2.67898046e-03,\n",
       "       6.66846784e-04, 8.20467806e-03, 9.95593961e-04, 5.35780005e-03,\n",
       "       1.66798629e-03, 8.55669600e-04, 1.29023663e-03, 1.04476642e-03,\n",
       "       4.03156284e-04, 1.69457719e-04, 3.39844631e-04, 7.85655024e-04,\n",
       "       5.89786417e-04, 4.30346538e-03, 5.85263814e-04, 5.26829007e-04,\n",
       "       3.56047889e-04, 3.19221398e-04, 7.20456080e-04, 1.00570850e-04,\n",
       "       4.76182277e-04, 6.34600797e-04, 4.32551960e-04, 1.74464489e-03,\n",
       "       1.68766998e-05, 6.05730775e-04, 5.55711233e-04, 4.27882809e-05,\n",
       "       1.10988713e-03, 1.70400027e-03, 1.08811246e-04, 3.21573499e-05,\n",
       "       9.91986320e-04, 2.01172016e-01, 1.11655831e-03, 1.16992485e-03,\n",
       "       9.18242828e-05, 1.34879889e-04, 9.13111934e-04, 3.57046132e-04,\n",
       "       7.61130097e-05, 1.20438478e-03, 4.89840544e-04, 5.02739966e-05,\n",
       "       1.55439350e-04, 5.23545181e-04, 2.88651998e-03, 2.16296499e-04,\n",
       "       1.63357267e-03, 5.17052228e-04, 3.55784441e-03, 2.76408588e-03,\n",
       "       7.05043840e-03, 6.75526377e-03, 1.85477585e-03, 4.14263885e-03,\n",
       "       3.17630703e-04, 2.76866475e-03, 3.05558171e-03, 8.14741622e-03,\n",
       "       3.44927357e-03, 4.83146606e-03, 1.86516574e-02, 8.94184775e-03,\n",
       "       1.06003056e-02, 6.96381522e-03, 5.36915163e-03, 6.16741437e-03,\n",
       "       5.14277480e-03, 2.69397592e-02, 1.84335921e-02, 8.62640524e-03,\n",
       "       4.78978373e-04, 6.37516267e-04, 3.94196083e-03, 1.13012143e-03,\n",
       "       2.02182060e-03, 1.63785393e-03, 3.54714755e-04, 1.69413181e-03,\n",
       "       2.37349614e-03, 5.01432899e-03, 6.50009388e-03, 8.18966984e-04,\n",
       "       6.35140086e-03, 1.03150532e-02, 1.20685229e-02, 1.54163592e-02,\n",
       "       2.48229070e-03, 1.39004727e-02, 3.96848335e-03, 2.18783499e-03,\n",
       "       9.45105373e-03, 1.50715909e-03, 1.83928527e-03, 2.89266637e-03,\n",
       "       2.84485393e-03, 2.12126292e-03, 3.38519331e-03, 3.23696275e-03,\n",
       "       3.52086399e-03, 2.37947210e-03, 2.74122168e-03, 5.74269834e-04,\n",
       "       1.96861859e-03, 1.40632838e-03, 3.21582824e-03])"
      ]
     },
     "execution_count": 51,
     "metadata": {},
     "output_type": "execute_result"
    }
   ],
   "source": [
    "v_a_j4"
   ]
  },
  {
   "cell_type": "code",
   "execution_count": 52,
   "metadata": {},
   "outputs": [
    {
     "data": {
      "text/plain": [
       "7543.950603678179"
      ]
     },
     "execution_count": 52,
     "metadata": {},
     "output_type": "execute_result"
    }
   ],
   "source": [
    "f_d=v_a_j4*(2*(0.1875))*10**5\n",
    "sampling_f=f_d.max()\n",
    "sampling_f"
   ]
  },
  {
   "cell_type": "code",
   "execution_count": null,
   "metadata": {},
   "outputs": [],
   "source": [
    "from scipy.signal import stft\n",
    "\n",
    "# Parameters for the signal\n",
    "fs = sampling_f  # Sampling frequency (Hz)\n",
    "T = 5  # Duration of the signal (seconds)\n",
    "t = np.arange(0, T, 1/fs)  # Time vector\n",
    "\n",
    "# Generate a chirp signal (linearly increasing frequency)\n",
    "f0 = 50  # Starting frequency (Hz)\n",
    "f1 = 200  # Ending frequency (Hz)\n",
    "chirp_signal = np.sin(2 * np.pi * (f0 * t + (f1 - f0) * t**2 / (2 * T)))\n",
    "\n",
    "# Compute the Short-Time Fourier Transform (STFT)\n",
    "f, t_stft, Zxx = stft(chirp_signal, fs, nperseg=256)\n",
    "\n",
    "# Plot the spectrogram\n",
    "plt.figure(figsize=(10, 6))\n",
    "plt.pcolormesh(t_stft, f, np.abs(Zxx), shading='gouraud')\n",
    "plt.colorbar(label='Magnitude')\n",
    "plt.title('Spectrogram of Chirp Signal')\n",
    "plt.ylabel('Frequency [Hz]')\n",
    "plt.xlabel('Time [sec]')\n",
    "plt.ylim(0, 300)  # Limit the frequency range for better visualization\n",
    "plt.show()\n"
   ]
  }
 ],
 "metadata": {
  "kernelspec": {
   "display_name": "venv",
   "language": "python",
   "name": "python3"
  },
  "language_info": {
   "codemirror_mode": {
    "name": "ipython",
    "version": 3
   },
   "file_extension": ".py",
   "mimetype": "text/x-python",
   "name": "python",
   "nbconvert_exporter": "python",
   "pygments_lexer": "ipython3",
   "version": "3.11.1"
  }
 },
 "nbformat": 4,
 "nbformat_minor": 2
}
