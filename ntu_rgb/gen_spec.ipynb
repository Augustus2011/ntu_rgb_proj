{
 "cells": [
  {
   "cell_type": "code",
   "execution_count": 11,
   "metadata": {},
   "outputs": [],
   "source": [
    "import polars as pl\n",
    "import matplotlib.pyplot as plt\n",
    "import glob\n",
    "import numpy as np\n",
    "import math\n"
   ]
  },
  {
   "cell_type": "code",
   "execution_count": 4,
   "metadata": {},
   "outputs": [],
   "source": [
    "all_=glob.glob(\"/Users/kunkerdthaisong/ipu/ntu_rgb_proj/SampleSkeleton/*npy\",recursive=True)"
   ]
  },
  {
   "cell_type": "code",
   "execution_count": 7,
   "metadata": {},
   "outputs": [],
   "source": [
    "VIDEO_ = np.load(all_[0], mmap_mode=None, allow_pickle=True)\n",
    "shape0, shape1, shape2 = VIDEO_.tolist()['skel_body0'].shape   #shape0==numbe_of_frame ,shape1==3(x,y,z) ,shape2==1\n",
    "movement1 = VIDEO_.tolist()['skel_body0'].reshape(1, shape0, shape1, shape2, 1)\n",
    "pos_x,pos_y,pos_z=[],[],[]\n",
    "joint=[]\n",
    "frames=[]\n",
    "f=0\n",
    "for frame in movement1[0]:#1 frame (25,3,1) , each movement specific frames\n",
    "    j=0\n",
    "    f=f+1\n",
    "    for x,y,z in frame: #position\n",
    "        pos_x.append(x[0])\n",
    "        pos_y.append(y[0])\n",
    "        pos_z.append(z[0])\n",
    "        j=j+1\n",
    "        joint.append(j)\n",
    "        frames.append(f)\n",
    "\n",
    "df_movement1 = pl.DataFrame({\n",
    "            'frame': frames,\n",
    "            'joint': joint,\n",
    "            'x': pos_x,\n",
    "            'y': pos_y,\n",
    "            'z': pos_z\n",
    "})"
   ]
  },
  {
   "cell_type": "code",
   "execution_count": 22,
   "metadata": {},
   "outputs": [],
   "source": [
    "def get_dis(x, y, z) -> float:\n",
    "    return math.sqrt(x**2 + y**2 + z**2)"
   ]
  },
  {
   "cell_type": "code",
   "execution_count": 48,
   "metadata": {},
   "outputs": [
    {
     "data": {
      "text/html": [
       "<div><style>\n",
       ".dataframe > thead > tr,\n",
       ".dataframe > tbody > tr {\n",
       "  text-align: right;\n",
       "  white-space: pre-wrap;\n",
       "}\n",
       "</style>\n",
       "<small>shape: (5, 5)</small><table border=\"1\" class=\"dataframe\"><thead><tr><th>frame</th><th>joint</th><th>x</th><th>y</th><th>z</th></tr><tr><td>i64</td><td>i64</td><td>f64</td><td>f64</td><td>f64</td></tr></thead><tbody><tr><td>1</td><td>1</td><td>0.2448688</td><td>-0.319706</td><td>2.583407</td></tr><tr><td>1</td><td>2</td><td>0.2292261</td><td>0.001406</td><td>2.560505</td></tr><tr><td>1</td><td>3</td><td>0.2133683</td><td>0.3145366</td><td>2.523498</td></tr><tr><td>1</td><td>4</td><td>0.2640043</td><td>0.4484481</td><td>2.526233</td></tr><tr><td>1</td><td>5</td><td>0.077273</td><td>0.1855741</td><td>2.44758</td></tr></tbody></table></div>"
      ],
      "text/plain": [
       "shape: (5, 5)\n",
       "┌───────┬───────┬───────────┬───────────┬──────────┐\n",
       "│ frame ┆ joint ┆ x         ┆ y         ┆ z        │\n",
       "│ ---   ┆ ---   ┆ ---       ┆ ---       ┆ ---      │\n",
       "│ i64   ┆ i64   ┆ f64       ┆ f64       ┆ f64      │\n",
       "╞═══════╪═══════╪═══════════╪═══════════╪══════════╡\n",
       "│ 1     ┆ 1     ┆ 0.2448688 ┆ -0.319706 ┆ 2.583407 │\n",
       "│ 1     ┆ 2     ┆ 0.2292261 ┆ 0.001406  ┆ 2.560505 │\n",
       "│ 1     ┆ 3     ┆ 0.2133683 ┆ 0.3145366 ┆ 2.523498 │\n",
       "│ 1     ┆ 4     ┆ 0.2640043 ┆ 0.4484481 ┆ 2.526233 │\n",
       "│ 1     ┆ 5     ┆ 0.077273  ┆ 0.1855741 ┆ 2.44758  │\n",
       "└───────┴───────┴───────────┴───────────┴──────────┘"
      ]
     },
     "execution_count": 48,
     "metadata": {},
     "output_type": "execute_result"
    }
   ],
   "source": [
    "df_movement1.head()"
   ]
  },
  {
   "cell_type": "code",
   "execution_count": 76,
   "metadata": {},
   "outputs": [
    {
     "data": {
      "text/html": [
       "<div><style>\n",
       ".dataframe > thead > tr,\n",
       ".dataframe > tbody > tr {\n",
       "  text-align: right;\n",
       "  white-space: pre-wrap;\n",
       "}\n",
       "</style>\n",
       "<small>shape: (1_450, 1)</small><table border=\"1\" class=\"dataframe\"><thead><tr><th>map</th></tr><tr><td>f64</td></tr></thead><tbody><tr><td>2.614606</td></tr><tr><td>2.570746</td></tr><tr><td>2.55196</td></tr><tr><td>2.579275</td></tr><tr><td>2.455821</td></tr><tr><td>2.417792</td></tr><tr><td>2.390776</td></tr><tr><td>2.399733</td></tr><tr><td>2.635909</td></tr><tr><td>2.690678</td></tr><tr><td>2.685913</td></tr><tr><td>2.673776</td></tr><tr><td>&hellip;</td></tr><tr><td>2.542403</td></tr><tr><td>2.737928</td></tr><tr><td>2.701626</td></tr><tr><td>2.630946</td></tr><tr><td>2.73295</td></tr><tr><td>2.903558</td></tr><tr><td>2.80801</td></tr><tr><td>2.603361</td></tr><tr><td>2.4151</td></tr><tr><td>2.404228</td></tr><tr><td>2.636217</td></tr><tr><td>2.617172</td></tr></tbody></table></div>"
      ],
      "text/plain": [
       "shape: (1_450, 1)\n",
       "┌──────────┐\n",
       "│ map      │\n",
       "│ ---      │\n",
       "│ f64      │\n",
       "╞══════════╡\n",
       "│ 2.614606 │\n",
       "│ 2.570746 │\n",
       "│ 2.55196  │\n",
       "│ 2.579275 │\n",
       "│ …        │\n",
       "│ 2.4151   │\n",
       "│ 2.404228 │\n",
       "│ 2.636217 │\n",
       "│ 2.617172 │\n",
       "└──────────┘"
      ]
     },
     "execution_count": 76,
     "metadata": {},
     "output_type": "execute_result"
    }
   ],
   "source": [
    "df_movement1.map_rows(lambda row:get_dis(row[2],row[3],row[4]))"
   ]
  },
  {
   "cell_type": "code",
   "execution_count": 92,
   "metadata": {},
   "outputs": [],
   "source": [
    "def get_zone(joint)->int:\n",
    "        for j in range(1,6):\n",
    "            if(joint in zones.get(j)):\n",
    "                return j"
   ]
  },
  {
   "cell_type": "code",
   "execution_count": 93,
   "metadata": {},
   "outputs": [],
   "source": [
    "zones={1:[25,24,12,11,10,9],2:[20,19,18,17],3:[16,15,14,13],4:[23,22,8,7,6,5],5:[1,2,21,3,4]}"
   ]
  },
  {
   "cell_type": "code",
   "execution_count": 95,
   "metadata": {},
   "outputs": [
    {
     "name": "stderr",
     "output_type": "stream",
     "text": [
      "/var/folders/b_/lgrfxxx575sg8v5fpdzxfmtm0000gn/T/ipykernel_12201/1341979669.py:1: DeprecationWarning: `apply` is deprecated. It has been renamed to `map_elements`.\n",
      "  df_movement1 = df_movement1.with_columns(pl.Series(name='zone',values=df_movement1['joint'].apply(lambda joint:get_zone(joint))))\n"
     ]
    },
    {
     "data": {
      "text/html": [
       "<div><style>\n",
       ".dataframe > thead > tr,\n",
       ".dataframe > tbody > tr {\n",
       "  text-align: right;\n",
       "  white-space: pre-wrap;\n",
       "}\n",
       "</style>\n",
       "<small>shape: (1_450, 7)</small><table border=\"1\" class=\"dataframe\"><thead><tr><th>frame</th><th>joint</th><th>x</th><th>y</th><th>z</th><th>dis_from_00</th><th>zone</th></tr><tr><td>i64</td><td>i64</td><td>f64</td><td>f64</td><td>f64</td><td>f64</td><td>i64</td></tr></thead><tbody><tr><td>1</td><td>1</td><td>0.2448688</td><td>-0.319706</td><td>2.583407</td><td>2.614606</td><td>5</td></tr><tr><td>1</td><td>2</td><td>0.2292261</td><td>0.001406</td><td>2.560505</td><td>2.570746</td><td>5</td></tr><tr><td>1</td><td>3</td><td>0.2133683</td><td>0.3145366</td><td>2.523498</td><td>2.55196</td><td>5</td></tr><tr><td>1</td><td>4</td><td>0.2640043</td><td>0.4484481</td><td>2.526233</td><td>2.579275</td><td>5</td></tr><tr><td>1</td><td>5</td><td>0.077273</td><td>0.1855741</td><td>2.44758</td><td>2.455821</td><td>4</td></tr><tr><td>1</td><td>6</td><td>0.021555</td><td>-0.062575</td><td>2.416886</td><td>2.417792</td><td>4</td></tr><tr><td>1</td><td>7</td><td>0.095063</td><td>-0.304932</td><td>2.369344</td><td>2.390776</td><td>4</td></tr><tr><td>1</td><td>8</td><td>0.1137719</td><td>-0.381393</td><td>2.366498</td><td>2.399733</td><td>4</td></tr><tr><td>1</td><td>9</td><td>0.3703793</td><td>0.1825166</td><td>2.603368</td><td>2.635909</td><td>1</td></tr><tr><td>1</td><td>10</td><td>0.4082483</td><td>-0.085119</td><td>2.658164</td><td>2.690678</td><td>1</td></tr><tr><td>1</td><td>11</td><td>0.460914</td><td>-0.356239</td><td>2.62198</td><td>2.685913</td><td>1</td></tr><tr><td>1</td><td>12</td><td>0.4622115</td><td>-0.414822</td><td>2.600646</td><td>2.673776</td><td>1</td></tr><tr><td>&hellip;</td><td>&hellip;</td><td>&hellip;</td><td>&hellip;</td><td>&hellip;</td><td>&hellip;</td><td>&hellip;</td></tr><tr><td>58</td><td>14</td><td>0.1684304</td><td>-0.627162</td><td>2.458071</td><td>2.542403</td><td>3</td></tr><tr><td>58</td><td>15</td><td>0.071846</td><td>-1.00104</td><td>2.547353</td><td>2.737928</td><td>3</td></tr><tr><td>58</td><td>16</td><td>0.1106447</td><td>-1.071823</td><td>2.477446</td><td>2.701626</td><td>3</td></tr><tr><td>58</td><td>17</td><td>0.3666756</td><td>-0.314392</td><td>2.58623</td><td>2.630946</td><td>2</td></tr><tr><td>58</td><td>18</td><td>0.3246264</td><td>-0.615615</td><td>2.642849</td><td>2.73295</td><td>2</td></tr><tr><td>58</td><td>19</td><td>0.2705463</td><td>-0.972407</td><td>2.722476</td><td>2.903558</td><td>2</td></tr><tr><td>58</td><td>20</td><td>0.3210631</td><td>-1.013422</td><td>2.599003</td><td>2.80801</td><td>2</td></tr><tr><td>58</td><td>21</td><td>0.2802007</td><td>0.2365662</td><td>2.577404</td><td>2.603361</td><td>5</td></tr><tr><td>58</td><td>22</td><td>0.1786414</td><td>-0.425826</td><td>2.370542</td><td>2.4151</td><td>4</td></tr><tr><td>58</td><td>23</td><td>0.1894674</td><td>-0.345578</td><td>2.371706</td><td>2.404228</td><td>4</td></tr><tr><td>58</td><td>24</td><td>0.5494715</td><td>-0.455435</td><td>2.537775</td><td>2.636217</td><td>1</td></tr><tr><td>58</td><td>25</td><td>0.573166</td><td>-0.390768</td><td>2.523563</td><td>2.617172</td><td>1</td></tr></tbody></table></div>"
      ],
      "text/plain": [
       "shape: (1_450, 7)\n",
       "┌───────┬───────┬───────────┬───────────┬──────────┬─────────────┬──────┐\n",
       "│ frame ┆ joint ┆ x         ┆ y         ┆ z        ┆ dis_from_00 ┆ zone │\n",
       "│ ---   ┆ ---   ┆ ---       ┆ ---       ┆ ---      ┆ ---         ┆ ---  │\n",
       "│ i64   ┆ i64   ┆ f64       ┆ f64       ┆ f64      ┆ f64         ┆ i64  │\n",
       "╞═══════╪═══════╪═══════════╪═══════════╪══════════╪═════════════╪══════╡\n",
       "│ 1     ┆ 1     ┆ 0.2448688 ┆ -0.319706 ┆ 2.583407 ┆ 2.614606    ┆ 5    │\n",
       "│ 1     ┆ 2     ┆ 0.2292261 ┆ 0.001406  ┆ 2.560505 ┆ 2.570746    ┆ 5    │\n",
       "│ 1     ┆ 3     ┆ 0.2133683 ┆ 0.3145366 ┆ 2.523498 ┆ 2.55196     ┆ 5    │\n",
       "│ 1     ┆ 4     ┆ 0.2640043 ┆ 0.4484481 ┆ 2.526233 ┆ 2.579275    ┆ 5    │\n",
       "│ …     ┆ …     ┆ …         ┆ …         ┆ …        ┆ …           ┆ …    │\n",
       "│ 58    ┆ 22    ┆ 0.1786414 ┆ -0.425826 ┆ 2.370542 ┆ 2.4151      ┆ 4    │\n",
       "│ 58    ┆ 23    ┆ 0.1894674 ┆ -0.345578 ┆ 2.371706 ┆ 2.404228    ┆ 4    │\n",
       "│ 58    ┆ 24    ┆ 0.5494715 ┆ -0.455435 ┆ 2.537775 ┆ 2.636217    ┆ 1    │\n",
       "│ 58    ┆ 25    ┆ 0.573166  ┆ -0.390768 ┆ 2.523563 ┆ 2.617172    ┆ 1    │\n",
       "└───────┴───────┴───────────┴───────────┴──────────┴─────────────┴──────┘"
      ]
     },
     "execution_count": 95,
     "metadata": {},
     "output_type": "execute_result"
    }
   ],
   "source": [
    "df_movement1 = df_movement1.with_columns(pl.Series(name='zone',values=df_movement1['joint'].apply(lambda joint:get_zone(joint))))\n",
    "df_movement1"
   ]
  },
  {
   "cell_type": "code",
   "execution_count": 98,
   "metadata": {},
   "outputs": [
    {
     "ename": "TypeError",
     "evalue": "argument 'names': 'list' object cannot be converted to 'PyString'",
     "output_type": "error",
     "traceback": [
      "\u001b[0;31m---------------------------------------------------------------------------\u001b[0m",
      "\u001b[0;31mTypeError\u001b[0m                                 Traceback (most recent call last)",
      "Cell \u001b[0;32mIn[98], line 1\u001b[0m\n\u001b[0;32m----> 1\u001b[0m df_movement1\u001b[38;5;241m.\u001b[39mwith_columns(\u001b[43mpl\u001b[49m\u001b[38;5;241;43m.\u001b[39;49m\u001b[43mcol\u001b[49m\u001b[43m(\u001b[49m\u001b[38;5;124;43m\"\u001b[39;49m\u001b[38;5;124;43myoyo\u001b[39;49m\u001b[38;5;124;43m\"\u001b[39;49m\u001b[43m,\u001b[49m\u001b[43m[\u001b[49m\u001b[38;5;241;43m1\u001b[39;49m\u001b[43m]\u001b[49m\u001b[38;5;241;43m*\u001b[39;49m\u001b[38;5;241;43m1450\u001b[39;49m\u001b[43m)\u001b[49m)\n",
      "File \u001b[0;32m~/ipu/venv/lib/python3.11/site-packages/polars/functions/col.py:287\u001b[0m, in \u001b[0;36mColumnFactory.__new__\u001b[0;34m(cls, name, *more_names)\u001b[0m\n\u001b[1;32m    145\u001b[0m \u001b[38;5;28;01mdef\u001b[39;00m \u001b[38;5;21m__new__\u001b[39m(  \u001b[38;5;66;03m# type: ignore[misc]\u001b[39;00m\n\u001b[1;32m    146\u001b[0m     \u001b[38;5;28mcls\u001b[39m,\n\u001b[1;32m    147\u001b[0m     name: \u001b[38;5;28mstr\u001b[39m \u001b[38;5;241m|\u001b[39m PolarsDataType \u001b[38;5;241m|\u001b[39m Iterable[\u001b[38;5;28mstr\u001b[39m] \u001b[38;5;241m|\u001b[39m Iterable[PolarsDataType],\n\u001b[1;32m    148\u001b[0m     \u001b[38;5;241m*\u001b[39mmore_names: \u001b[38;5;28mstr\u001b[39m \u001b[38;5;241m|\u001b[39m PolarsDataType,\n\u001b[1;32m    149\u001b[0m ) \u001b[38;5;241m-\u001b[39m\u001b[38;5;241m>\u001b[39m Expr:\n\u001b[1;32m    150\u001b[0m \u001b[38;5;250m    \u001b[39m\u001b[38;5;124;03m\"\"\"\u001b[39;00m\n\u001b[1;32m    151\u001b[0m \u001b[38;5;124;03m    Create one or more column expressions representing column(s) in a DataFrame.\u001b[39;00m\n\u001b[1;32m    152\u001b[0m \n\u001b[0;32m   (...)\u001b[0m\n\u001b[1;32m    285\u001b[0m \n\u001b[1;32m    286\u001b[0m \u001b[38;5;124;03m    \"\"\"\u001b[39;00m\n\u001b[0;32m--> 287\u001b[0m     \u001b[38;5;28;01mreturn\u001b[39;00m \u001b[43m_create_col\u001b[49m\u001b[43m(\u001b[49m\u001b[43mname\u001b[49m\u001b[43m,\u001b[49m\u001b[43m \u001b[49m\u001b[38;5;241;43m*\u001b[39;49m\u001b[43mmore_names\u001b[49m\u001b[43m)\u001b[49m\n",
      "File \u001b[0;32m~/ipu/venv/lib/python3.11/site-packages/polars/functions/col.py:29\u001b[0m, in \u001b[0;36m_create_col\u001b[0;34m(name, *more_names)\u001b[0m\n\u001b[1;32m     27\u001b[0m     names_str \u001b[38;5;241m=\u001b[39m [name]\n\u001b[1;32m     28\u001b[0m     names_str\u001b[38;5;241m.\u001b[39mextend(more_names)  \u001b[38;5;66;03m# type: ignore[arg-type]\u001b[39;00m\n\u001b[0;32m---> 29\u001b[0m     \u001b[38;5;28;01mreturn\u001b[39;00m wrap_expr(\u001b[43mplr\u001b[49m\u001b[38;5;241;43m.\u001b[39;49m\u001b[43mcols\u001b[49m\u001b[43m(\u001b[49m\u001b[43mnames_str\u001b[49m\u001b[43m)\u001b[49m)\n\u001b[1;32m     30\u001b[0m \u001b[38;5;28;01melif\u001b[39;00m is_polars_dtype(name):\n\u001b[1;32m     31\u001b[0m     dtypes \u001b[38;5;241m=\u001b[39m [name]\n",
      "\u001b[0;31mTypeError\u001b[0m: argument 'names': 'list' object cannot be converted to 'PyString'"
     ]
    }
   ],
   "source": [
    "df_movement1.with_columns(pl.Series(\"yoyo\",[1]*1450))"
   ]
  },
  {
   "cell_type": "code",
   "execution_count": 87,
   "metadata": {},
   "outputs": [
    {
     "data": {
      "text/html": [
       "<div><style>\n",
       ".dataframe > thead > tr,\n",
       ".dataframe > tbody > tr {\n",
       "  text-align: right;\n",
       "  white-space: pre-wrap;\n",
       "}\n",
       "</style>\n",
       "<small>shape: (1_450, 6)</small><table border=\"1\" class=\"dataframe\"><thead><tr><th>frame</th><th>joint</th><th>x</th><th>y</th><th>z</th><th>dis_from_00</th></tr><tr><td>i64</td><td>i64</td><td>f64</td><td>f64</td><td>f64</td><td>f64</td></tr></thead><tbody><tr><td>1</td><td>1</td><td>0.2448688</td><td>-0.319706</td><td>2.583407</td><td>2.614606</td></tr><tr><td>1</td><td>2</td><td>0.2292261</td><td>0.001406</td><td>2.560505</td><td>2.570746</td></tr><tr><td>1</td><td>3</td><td>0.2133683</td><td>0.3145366</td><td>2.523498</td><td>2.55196</td></tr><tr><td>1</td><td>4</td><td>0.2640043</td><td>0.4484481</td><td>2.526233</td><td>2.579275</td></tr><tr><td>1</td><td>5</td><td>0.077273</td><td>0.1855741</td><td>2.44758</td><td>2.455821</td></tr><tr><td>1</td><td>6</td><td>0.021555</td><td>-0.062575</td><td>2.416886</td><td>2.417792</td></tr><tr><td>1</td><td>7</td><td>0.095063</td><td>-0.304932</td><td>2.369344</td><td>2.390776</td></tr><tr><td>1</td><td>8</td><td>0.1137719</td><td>-0.381393</td><td>2.366498</td><td>2.399733</td></tr><tr><td>1</td><td>9</td><td>0.3703793</td><td>0.1825166</td><td>2.603368</td><td>2.635909</td></tr><tr><td>1</td><td>10</td><td>0.4082483</td><td>-0.085119</td><td>2.658164</td><td>2.690678</td></tr><tr><td>1</td><td>11</td><td>0.460914</td><td>-0.356239</td><td>2.62198</td><td>2.685913</td></tr><tr><td>1</td><td>12</td><td>0.4622115</td><td>-0.414822</td><td>2.600646</td><td>2.673776</td></tr><tr><td>&hellip;</td><td>&hellip;</td><td>&hellip;</td><td>&hellip;</td><td>&hellip;</td><td>&hellip;</td></tr><tr><td>58</td><td>14</td><td>0.1684304</td><td>-0.627162</td><td>2.458071</td><td>2.542403</td></tr><tr><td>58</td><td>15</td><td>0.071846</td><td>-1.00104</td><td>2.547353</td><td>2.737928</td></tr><tr><td>58</td><td>16</td><td>0.1106447</td><td>-1.071823</td><td>2.477446</td><td>2.701626</td></tr><tr><td>58</td><td>17</td><td>0.3666756</td><td>-0.314392</td><td>2.58623</td><td>2.630946</td></tr><tr><td>58</td><td>18</td><td>0.3246264</td><td>-0.615615</td><td>2.642849</td><td>2.73295</td></tr><tr><td>58</td><td>19</td><td>0.2705463</td><td>-0.972407</td><td>2.722476</td><td>2.903558</td></tr><tr><td>58</td><td>20</td><td>0.3210631</td><td>-1.013422</td><td>2.599003</td><td>2.80801</td></tr><tr><td>58</td><td>21</td><td>0.2802007</td><td>0.2365662</td><td>2.577404</td><td>2.603361</td></tr><tr><td>58</td><td>22</td><td>0.1786414</td><td>-0.425826</td><td>2.370542</td><td>2.4151</td></tr><tr><td>58</td><td>23</td><td>0.1894674</td><td>-0.345578</td><td>2.371706</td><td>2.404228</td></tr><tr><td>58</td><td>24</td><td>0.5494715</td><td>-0.455435</td><td>2.537775</td><td>2.636217</td></tr><tr><td>58</td><td>25</td><td>0.573166</td><td>-0.390768</td><td>2.523563</td><td>2.617172</td></tr></tbody></table></div>"
      ],
      "text/plain": [
       "shape: (1_450, 6)\n",
       "┌───────┬───────┬───────────┬───────────┬──────────┬─────────────┐\n",
       "│ frame ┆ joint ┆ x         ┆ y         ┆ z        ┆ dis_from_00 │\n",
       "│ ---   ┆ ---   ┆ ---       ┆ ---       ┆ ---      ┆ ---         │\n",
       "│ i64   ┆ i64   ┆ f64       ┆ f64       ┆ f64      ┆ f64         │\n",
       "╞═══════╪═══════╪═══════════╪═══════════╪══════════╪═════════════╡\n",
       "│ 1     ┆ 1     ┆ 0.2448688 ┆ -0.319706 ┆ 2.583407 ┆ 2.614606    │\n",
       "│ 1     ┆ 2     ┆ 0.2292261 ┆ 0.001406  ┆ 2.560505 ┆ 2.570746    │\n",
       "│ 1     ┆ 3     ┆ 0.2133683 ┆ 0.3145366 ┆ 2.523498 ┆ 2.55196     │\n",
       "│ 1     ┆ 4     ┆ 0.2640043 ┆ 0.4484481 ┆ 2.526233 ┆ 2.579275    │\n",
       "│ …     ┆ …     ┆ …         ┆ …         ┆ …        ┆ …           │\n",
       "│ 58    ┆ 22    ┆ 0.1786414 ┆ -0.425826 ┆ 2.370542 ┆ 2.4151      │\n",
       "│ 58    ┆ 23    ┆ 0.1894674 ┆ -0.345578 ┆ 2.371706 ┆ 2.404228    │\n",
       "│ 58    ┆ 24    ┆ 0.5494715 ┆ -0.455435 ┆ 2.537775 ┆ 2.636217    │\n",
       "│ 58    ┆ 25    ┆ 0.573166  ┆ -0.390768 ┆ 2.523563 ┆ 2.617172    │\n",
       "└───────┴───────┴───────────┴───────────┴──────────┴─────────────┘"
      ]
     },
     "execution_count": 87,
     "metadata": {},
     "output_type": "execute_result"
    }
   ],
   "source": [
    "df_movement1= df_movement1.rename({\"map\": \"dis_from_00\"})\n",
    "df_movement1"
   ]
  },
  {
   "cell_type": "code",
   "execution_count": null,
   "metadata": {},
   "outputs": [],
   "source": []
  }
 ],
 "metadata": {
  "kernelspec": {
   "display_name": "venv",
   "language": "python",
   "name": "python3"
  },
  "language_info": {
   "codemirror_mode": {
    "name": "ipython",
    "version": 3
   },
   "file_extension": ".py",
   "mimetype": "text/x-python",
   "name": "python",
   "nbconvert_exporter": "python",
   "pygments_lexer": "ipython3",
   "version": "3.11.1"
  }
 },
 "nbformat": 4,
 "nbformat_minor": 2
}
