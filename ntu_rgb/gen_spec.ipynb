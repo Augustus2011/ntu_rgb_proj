{
 "cells": [
  {
   "cell_type": "code",
   "execution_count": 1,
   "metadata": {},
   "outputs": [],
   "source": [
    "import polars as pl\n",
    "import matplotlib.pyplot as plt\n",
    "import glob\n",
    "import numpy as np\n",
    "import math\n",
    "import os\n",
    "import glob\n",
    "\n",
    "from tqdm import tqdm\n"
   ]
  },
  {
   "cell_type": "code",
   "execution_count": 65,
   "metadata": {},
   "outputs": [
    {
     "data": {
      "text/html": [
       "<div><style>\n",
       ".dataframe > thead > tr,\n",
       ".dataframe > tbody > tr {\n",
       "  text-align: right;\n",
       "  white-space: pre-wrap;\n",
       "}\n",
       "</style>\n",
       "<small>shape: (19_095_250, 10)</small><table border=\"1\" class=\"dataframe\"><thead><tr><th>frame</th><th>joint</th><th>x</th><th>y</th><th>z</th><th>zone</th><th>dis_from_00</th><th>dis_from_hop1</th><th>angle_from_hop1</th><th>file_path</th></tr><tr><td>i64</td><td>i64</td><td>f64</td><td>f64</td><td>f64</td><td>i64</td><td>f64</td><td>f64</td><td>f64</td><td>str</td></tr></thead><tbody><tr><td>1</td><td>1</td><td>0.2448688</td><td>-0.319706</td><td>2.583407</td><td>5</td><td>2.614606</td><td>0.065108</td><td>1.425857</td><td>&quot;/Users/kunkerd…</td></tr><tr><td>1</td><td>2</td><td>0.2292261</td><td>0.001406</td><td>2.560505</td><td>5</td><td>2.570746</td><td>0.322308</td><td>7.061175</td><td>&quot;/Users/kunkerd…</td></tr><tr><td>1</td><td>3</td><td>0.2133683</td><td>0.3145366</td><td>2.523498</td><td>5</td><td>2.55196</td><td>0.143191</td><td>3.139493</td><td>&quot;/Users/kunkerd…</td></tr><tr><td>1</td><td>4</td><td>0.2640043</td><td>0.4484481</td><td>2.526233</td><td>5</td><td>2.579275</td><td>0.143191</td><td>3.139493</td><td>&quot;/Users/kunkerd…</td></tr><tr><td>1</td><td>5</td><td>0.077273</td><td>0.1855741</td><td>2.44758</td><td>4</td><td>2.455821</td><td>0.256173</td><td>5.959437</td><td>&quot;/Users/kunkerd…</td></tr><tr><td>1</td><td>6</td><td>0.021555</td><td>-0.062575</td><td>2.416886</td><td>4</td><td>2.417792</td><td>0.257683</td><td>6.109904</td><td>&quot;/Users/kunkerd…</td></tr><tr><td>1</td><td>7</td><td>0.095063</td><td>-0.304932</td><td>2.369344</td><td>4</td><td>2.390776</td><td>0.078768</td><td>1.872045</td><td>&quot;/Users/kunkerd…</td></tr><tr><td>1</td><td>8</td><td>0.1137719</td><td>-0.381393</td><td>2.366498</td><td>4</td><td>2.399733</td><td>0.067855</td><td>1.582087</td><td>&quot;/Users/kunkerd…</td></tr><tr><td>1</td><td>9</td><td>0.3703793</td><td>0.1825166</td><td>2.603368</td><td>1</td><td>2.635909</td><td>0.176141</td><td>3.460854</td><td>&quot;/Users/kunkerd…</td></tr><tr><td>1</td><td>10</td><td>0.4082483</td><td>-0.085119</td><td>2.658164</td><td>1</td><td>2.690678</td><td>0.275799</td><td>5.817949</td><td>&quot;/Users/kunkerd…</td></tr><tr><td>1</td><td>11</td><td>0.460914</td><td>-0.356239</td><td>2.62198</td><td>1</td><td>2.685913</td><td>0.278548</td><td>5.938509</td><td>&quot;/Users/kunkerd…</td></tr><tr><td>1</td><td>12</td><td>0.4622115</td><td>-0.414822</td><td>2.600646</td><td>1</td><td>2.673776</td><td>0.06236</td><td>1.307815</td><td>&quot;/Users/kunkerd…</td></tr><tr><td>&hellip;</td><td>&hellip;</td><td>&hellip;</td><td>&hellip;</td><td>&hellip;</td><td>&hellip;</td><td>&hellip;</td><td>&hellip;</td><td>&hellip;</td><td>&hellip;</td></tr><tr><td>70</td><td>14</td><td>-0.450071</td><td>-0.426966</td><td>3.755414</td><td>3</td><td>3.80631</td><td>0.384199</td><td>5.213949</td><td>&quot;/Users/kunkerd…</td></tr><tr><td>70</td><td>15</td><td>-0.294916</td><td>-0.783711</td><td>3.73031</td><td>3</td><td>3.823139</td><td>0.127388</td><td>1.700982</td><td>&quot;/Users/kunkerd…</td></tr><tr><td>70</td><td>16</td><td>-0.240948</td><td>-0.838213</td><td>3.639246</td><td>3</td><td>3.742295</td><td>0.127388</td><td>1.700982</td><td>&quot;/Users/kunkerd…</td></tr><tr><td>70</td><td>17</td><td>-0.393375</td><td>-0.164236</td><td>3.562476</td><td>2</td><td>3.58789</td><td>0.330876</td><td>5.293962</td><td>&quot;/Users/kunkerd…</td></tr><tr><td>70</td><td>18</td><td>-0.369756</td><td>-0.434716</td><td>3.645689</td><td>2</td><td>3.690088</td><td>0.351236</td><td>3.455276</td><td>&quot;/Users/kunkerd…</td></tr><tr><td>70</td><td>19</td><td>-0.32005</td><td>-0.752183</td><td>3.765694</td><td>2</td><td>3.853396</td><td>0.118162</td><td>1.344601</td><td>&quot;/Users/kunkerd…</td></tr><tr><td>70</td><td>20</td><td>-0.356647</td><td>-0.813866</td><td>3.766612</td><td>2</td><td>3.870005</td><td>0.118162</td><td>1.344601</td><td>&quot;/Users/kunkerd…</td></tr><tr><td>70</td><td>21</td><td>-0.409047</td><td>0.3418425</td><td>3.501443</td><td>5</td><td>3.54179</td><td>0.12978</td><td>1.321308</td><td>&quot;/Users/kunkerd…</td></tr><tr><td>70</td><td>22</td><td>-0.50222</td><td>-0.145406</td><td>3.583887</td><td>4</td><td>3.621825</td><td>0.018635</td><td>0.170167</td><td>&quot;/Users/kunkerd…</td></tr><tr><td>70</td><td>23</td><td>-0.495127</td><td>-0.149641</td><td>3.568</td><td>4</td><td>3.605297</td><td>0.037493</td><td>0.599783</td><td>&quot;/Users/kunkerd…</td></tr><tr><td>70</td><td>24</td><td>-0.265041</td><td>-0.298783</td><td>3.486935</td><td>1</td><td>3.509734</td><td>0.090051</td><td>0.868759</td><td>&quot;/Users/kunkerd…</td></tr><tr><td>70</td><td>25</td><td>-0.331719</td><td>-0.259292</td><td>3.451218</td><td>1</td><td>3.476805</td><td>0.031299</td><td>0.40962</td><td>&quot;/Users/kunkerd…</td></tr></tbody></table></div>"
      ],
      "text/plain": [
       "shape: (19_095_250, 10)\n",
       "┌───────┬───────┬───────────┬───────────┬───┬─────────────┬─────────────┬─────────────┬────────────┐\n",
       "│ frame ┆ joint ┆ x         ┆ y         ┆ … ┆ dis_from_00 ┆ dis_from_ho ┆ angle_from_ ┆ file_path  │\n",
       "│ ---   ┆ ---   ┆ ---       ┆ ---       ┆   ┆ ---         ┆ p1          ┆ hop1        ┆ ---        │\n",
       "│ i64   ┆ i64   ┆ f64       ┆ f64       ┆   ┆ f64         ┆ ---         ┆ ---         ┆ str        │\n",
       "│       ┆       ┆           ┆           ┆   ┆             ┆ f64         ┆ f64         ┆            │\n",
       "╞═══════╪═══════╪═══════════╪═══════════╪═══╪═════════════╪═════════════╪═════════════╪════════════╡\n",
       "│ 1     ┆ 1     ┆ 0.2448688 ┆ -0.319706 ┆ … ┆ 2.614606    ┆ 0.065108    ┆ 1.425857    ┆ /Users/kun │\n",
       "│       ┆       ┆           ┆           ┆   ┆             ┆             ┆             ┆ kerdthaiso │\n",
       "│       ┆       ┆           ┆           ┆   ┆             ┆             ┆             ┆ ng/ipu/ntu │\n",
       "│       ┆       ┆           ┆           ┆   ┆             ┆             ┆             ┆ _r…        │\n",
       "│ 1     ┆ 2     ┆ 0.2292261 ┆ 0.001406  ┆ … ┆ 2.570746    ┆ 0.322308    ┆ 7.061175    ┆ /Users/kun │\n",
       "│       ┆       ┆           ┆           ┆   ┆             ┆             ┆             ┆ kerdthaiso │\n",
       "│       ┆       ┆           ┆           ┆   ┆             ┆             ┆             ┆ ng/ipu/ntu │\n",
       "│       ┆       ┆           ┆           ┆   ┆             ┆             ┆             ┆ _r…        │\n",
       "│ 1     ┆ 3     ┆ 0.2133683 ┆ 0.3145366 ┆ … ┆ 2.55196     ┆ 0.143191    ┆ 3.139493    ┆ /Users/kun │\n",
       "│       ┆       ┆           ┆           ┆   ┆             ┆             ┆             ┆ kerdthaiso │\n",
       "│       ┆       ┆           ┆           ┆   ┆             ┆             ┆             ┆ ng/ipu/ntu │\n",
       "│       ┆       ┆           ┆           ┆   ┆             ┆             ┆             ┆ _r…        │\n",
       "│ 1     ┆ 4     ┆ 0.2640043 ┆ 0.4484481 ┆ … ┆ 2.579275    ┆ 0.143191    ┆ 3.139493    ┆ /Users/kun │\n",
       "│       ┆       ┆           ┆           ┆   ┆             ┆             ┆             ┆ kerdthaiso │\n",
       "│       ┆       ┆           ┆           ┆   ┆             ┆             ┆             ┆ ng/ipu/ntu │\n",
       "│       ┆       ┆           ┆           ┆   ┆             ┆             ┆             ┆ _r…        │\n",
       "│ …     ┆ …     ┆ …         ┆ …         ┆ … ┆ …           ┆ …           ┆ …           ┆ …          │\n",
       "│ 70    ┆ 22    ┆ -0.50222  ┆ -0.145406 ┆ … ┆ 3.621825    ┆ 0.018635    ┆ 0.170167    ┆ /Users/kun │\n",
       "│       ┆       ┆           ┆           ┆   ┆             ┆             ┆             ┆ kerdthaiso │\n",
       "│       ┆       ┆           ┆           ┆   ┆             ┆             ┆             ┆ ng/ipu/ntu │\n",
       "│       ┆       ┆           ┆           ┆   ┆             ┆             ┆             ┆ _r…        │\n",
       "│ 70    ┆ 23    ┆ -0.495127 ┆ -0.149641 ┆ … ┆ 3.605297    ┆ 0.037493    ┆ 0.599783    ┆ /Users/kun │\n",
       "│       ┆       ┆           ┆           ┆   ┆             ┆             ┆             ┆ kerdthaiso │\n",
       "│       ┆       ┆           ┆           ┆   ┆             ┆             ┆             ┆ ng/ipu/ntu │\n",
       "│       ┆       ┆           ┆           ┆   ┆             ┆             ┆             ┆ _r…        │\n",
       "│ 70    ┆ 24    ┆ -0.265041 ┆ -0.298783 ┆ … ┆ 3.509734    ┆ 0.090051    ┆ 0.868759    ┆ /Users/kun │\n",
       "│       ┆       ┆           ┆           ┆   ┆             ┆             ┆             ┆ kerdthaiso │\n",
       "│       ┆       ┆           ┆           ┆   ┆             ┆             ┆             ┆ ng/ipu/ntu │\n",
       "│       ┆       ┆           ┆           ┆   ┆             ┆             ┆             ┆ _r…        │\n",
       "│ 70    ┆ 25    ┆ -0.331719 ┆ -0.259292 ┆ … ┆ 3.476805    ┆ 0.031299    ┆ 0.40962     ┆ /Users/kun │\n",
       "│       ┆       ┆           ┆           ┆   ┆             ┆             ┆             ┆ kerdthaiso │\n",
       "│       ┆       ┆           ┆           ┆   ┆             ┆             ┆             ┆ ng/ipu/ntu │\n",
       "│       ┆       ┆           ┆           ┆   ┆             ┆             ┆             ┆ _r…        │\n",
       "└───────┴───────┴───────────┴───────────┴───┴─────────────┴─────────────┴─────────────┴────────────┘"
      ]
     },
     "execution_count": 65,
     "metadata": {},
     "output_type": "execute_result"
    }
   ],
   "source": [
    "#pl.read_parquet(\"/Users/kunkerdthaisong/Downloads/dataframe.parquet\")"
   ]
  },
  {
   "cell_type": "code",
   "execution_count": null,
   "metadata": {},
   "outputs": [],
   "source": [
    "#df=pl.read_parquet(\"/Users/kunkerdthaisong/ipu/ntu_rgb_proj/ntu_rgb/30actions_10class.parquet\")\n",
    "#df"
   ]
  },
  {
   "cell_type": "code",
   "execution_count": 39,
   "metadata": {},
   "outputs": [
    {
     "data": {
      "text/plain": [
       "30"
      ]
     },
     "execution_count": 39,
     "metadata": {},
     "output_type": "execute_result"
    }
   ],
   "source": [
    "#all_=len(df[\"file_path\"].unique(maintain_order=True))\n",
    "#all_"
   ]
  },
  {
   "cell_type": "code",
   "execution_count": 67,
   "metadata": {},
   "outputs": [],
   "source": [
    "x=pl.read_parquet(\"/Users/kunkerdthaisong/ipu/ntu_rgb_proj/spec/two_person_dataframe.parquet\")"
   ]
  },
  {
   "cell_type": "code",
   "execution_count": 140,
   "metadata": {},
   "outputs": [
    {
     "name": "stdout",
     "output_type": "stream",
     "text": [
      "131500\n"
     ]
    }
   ],
   "source": [
    "# f_a=x.filter(pl.col(\"filename_n_class\")=='S001C001P001R001A051.skeleton.npy',) #1m40s\n",
    "#if it was sorted do linear search or your algo  #0.0s\n",
    "for i,j in enumerate(x[\"filename_n_class\"]):\n",
    "    if j ==\"S001C001P002R002A050.skeleton.npy\":\n",
    "        break\n",
    "print(i)"
   ]
  },
  {
   "cell_type": "code",
   "execution_count": 138,
   "metadata": {},
   "outputs": [],
   "source": [
    "f_30_a=x[\"filename_n_class\"].unique(maintain_order=True)[:34]"
   ]
  },
  {
   "cell_type": "code",
   "execution_count": 149,
   "metadata": {},
   "outputs": [],
   "source": [
    "x[:131499].write_parquet(\"/Users/kunkerdthaisong/ipu/ntu_rgb_proj/ntu_rgb/two_person_30actions_10class.parquet\")"
   ]
  },
  {
   "cell_type": "code",
   "execution_count": 139,
   "metadata": {},
   "outputs": [
    {
     "name": "stdout",
     "output_type": "stream",
     "text": [
      "S001C001P001R001A050.skeleton.npy\n",
      "S001C001P001R001A051.skeleton.npy\n",
      "S001C001P001R001A052.skeleton.npy\n",
      "S001C001P001R001A053.skeleton.npy\n",
      "S001C001P001R001A054.skeleton.npy\n",
      "S001C001P001R001A055.skeleton.npy\n",
      "S001C001P001R001A056.skeleton.npy\n",
      "S001C001P001R001A057.skeleton.npy\n",
      "S001C001P001R001A058.skeleton.npy\n",
      "S001C001P001R001A059.skeleton.npy\n",
      "S001C001P001R001A060.skeleton.npy\n",
      "S001C001P001R002A050.skeleton.npy\n",
      "S001C001P001R002A051.skeleton.npy\n",
      "S001C001P001R002A052.skeleton.npy\n",
      "S001C001P001R002A053.skeleton.npy\n",
      "S001C001P001R002A054.skeleton.npy\n",
      "S001C001P001R002A055.skeleton.npy\n",
      "S001C001P001R002A056.skeleton.npy\n",
      "S001C001P001R002A057.skeleton.npy\n",
      "S001C001P001R002A058.skeleton.npy\n",
      "S001C001P001R002A059.skeleton.npy\n",
      "S001C001P001R002A060.skeleton.npy\n",
      "S001C001P002R001A050.skeleton.npy\n",
      "S001C001P002R001A051.skeleton.npy\n",
      "S001C001P002R001A052.skeleton.npy\n",
      "S001C001P002R001A053.skeleton.npy\n",
      "S001C001P002R001A054.skeleton.npy\n",
      "S001C001P002R001A055.skeleton.npy\n",
      "S001C001P002R001A056.skeleton.npy\n",
      "S001C001P002R001A057.skeleton.npy\n",
      "S001C001P002R001A058.skeleton.npy\n",
      "S001C001P002R001A059.skeleton.npy\n",
      "S001C001P002R001A060.skeleton.npy\n",
      "S001C001P002R002A050.skeleton.npy\n"
     ]
    }
   ],
   "source": [
    "for i in f_30_a:\n",
    "    print(i)"
   ]
  },
  {
   "cell_type": "code",
   "execution_count": 137,
   "metadata": {},
   "outputs": [
    {
     "data": {
      "text/plain": [
       "'S001C001P002R001A060.skeleton.npy'"
      ]
     },
     "execution_count": 137,
     "metadata": {},
     "output_type": "execute_result"
    }
   ],
   "source": [
    "f_30_a[32]"
   ]
  },
  {
   "cell_type": "code",
   "execution_count": 114,
   "metadata": {},
   "outputs": [
    {
     "data": {
      "text/plain": [
       "'S001C001P001R001A060.skeleton.npy'"
      ]
     },
     "execution_count": 114,
     "metadata": {},
     "output_type": "execute_result"
    }
   ],
   "source": [
    "x[\"filename_n_class\"][44750]"
   ]
  },
  {
   "cell_type": "code",
   "execution_count": null,
   "metadata": {},
   "outputs": [],
   "source": []
  }
 ],
 "metadata": {
  "kernelspec": {
   "display_name": "venv",
   "language": "python",
   "name": "python3"
  },
  "language_info": {
   "codemirror_mode": {
    "name": "ipython",
    "version": 3
   },
   "file_extension": ".py",
   "mimetype": "text/x-python",
   "name": "python",
   "nbconvert_exporter": "python",
   "pygments_lexer": "ipython3",
   "version": "3.11.1"
  }
 },
 "nbformat": 4,
 "nbformat_minor": 2
}
